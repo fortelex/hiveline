{
 "cells": [
  {
   "cell_type": "markdown",
   "metadata": {},
   "source": [
    "# Data cleaning\n",
    "Most of the demographic data comes from Eurostat, so they share similar format and basic cleaning can be generalized.  \n",
    "A first selection of variables can already be done when downloading the data.  \n",
    "Then, some specific operations may be necessary according to the original dataset and the final usage.   \n",
    "The algorithms will use the cleaned datasets, but the original ones are kept in case different usages are defined."
   ]
  },
  {
   "cell_type": "code",
   "execution_count": 1,
   "metadata": {},
   "outputs": [],
   "source": [
    "import pandas as pd"
   ]
  },
  {
   "cell_type": "code",
   "execution_count": 2,
   "metadata": {},
   "outputs": [],
   "source": [
    "data_folder = './'#'../data/'\n",
    "age_path = data_folder + 'age/age_nuts3.csv'\n",
    "employment_rate_path = data_folder + 'employment/employment_rate_nuts2.csv'\n",
    "employment_type_path = data_folder + 'employment/employment_thousand_person_nuts3.csv'\n",
    "income_path = data_folder + 'income/households_income_nuts2.csv'\n",
    "motorization_path = data_folder + 'motorization/motorization_rate.csv'"
   ]
  },
  {
   "cell_type": "markdown",
   "metadata": {},
   "source": [
    "## Basic functions"
   ]
  },
  {
   "cell_type": "code",
   "execution_count": 3,
   "metadata": {},
   "outputs": [],
   "source": [
    "# filter by year\n",
    "def filter_year(df, year):\n",
    "    df = df[df['TIME_PERIOD']==year]\n",
    "    df = df.drop(columns='TIME_PERIOD')\n",
    "    return df.reset_index(drop=True)"
   ]
  },
  {
   "cell_type": "code",
   "execution_count": 4,
   "metadata": {},
   "outputs": [],
   "source": [
    "# filter by max precision\n",
    "def filter_precision(df):\n",
    "    df = df[df['geo'].apply(len)<=5]\n",
    "    max_precision = df['geo'].apply(len).max()\n",
    "    df = df[df['geo'].apply(len)==max_precision]\n",
    "    return df.reset_index(drop=True), max_precision-2"
   ]
  },
  {
   "cell_type": "code",
   "execution_count": 5,
   "metadata": {},
   "outputs": [],
   "source": [
    "# compare data availability for different times\n",
    "# NUTS 2: 242 regions\n",
    "# NUTS 3: 1166 regions\n",
    "def compare_years(df):\n",
    "    return df.groupby('TIME_PERIOD').count()['OBS_VALUE']"
   ]
  },
  {
   "cell_type": "code",
   "execution_count": 6,
   "metadata": {},
   "outputs": [],
   "source": [
    "# rename geo and OBS_VALUE columns\n",
    "def rename_cols(df, obs_value_name, resolution):\n",
    "    df = df.rename(columns={'geo': f'nuts{resolution}', 'OBS_VALUE': obs_value_name})\n",
    "    return df"
   ]
  },
  {
   "cell_type": "markdown",
   "metadata": {},
   "source": [
    "## Age dataset\n",
    "| Unit | Resolution | Categories | \n",
    "|---|---|---|\n",
    "|Count | NUTS-3 | 3 |\n",
    "\n",
    "Age distribution, we keep 3 categories: under 20, between 20-64, and over 64"
   ]
  },
  {
   "cell_type": "code",
   "execution_count": 28,
   "metadata": {},
   "outputs": [
    {
     "data": {
      "text/html": [
       "<div>\n",
       "<style scoped>\n",
       "    .dataframe tbody tr th:only-of-type {\n",
       "        vertical-align: middle;\n",
       "    }\n",
       "\n",
       "    .dataframe tbody tr th {\n",
       "        vertical-align: top;\n",
       "    }\n",
       "\n",
       "    .dataframe thead th {\n",
       "        text-align: right;\n",
       "    }\n",
       "</style>\n",
       "<table border=\"1\" class=\"dataframe\">\n",
       "  <thead>\n",
       "    <tr style=\"text-align: right;\">\n",
       "      <th></th>\n",
       "      <th>age</th>\n",
       "      <th>geo</th>\n",
       "      <th>TIME_PERIOD</th>\n",
       "      <th>OBS_VALUE</th>\n",
       "    </tr>\n",
       "  </thead>\n",
       "  <tbody>\n",
       "    <tr>\n",
       "      <th>0</th>\n",
       "      <td>UNK</td>\n",
       "      <td>AL</td>\n",
       "      <td>2021</td>\n",
       "      <td>0</td>\n",
       "    </tr>\n",
       "    <tr>\n",
       "      <th>1</th>\n",
       "      <td>UNK</td>\n",
       "      <td>AL</td>\n",
       "      <td>2022</td>\n",
       "      <td>0</td>\n",
       "    </tr>\n",
       "    <tr>\n",
       "      <th>2</th>\n",
       "      <td>UNK</td>\n",
       "      <td>AL0</td>\n",
       "      <td>2021</td>\n",
       "      <td>0</td>\n",
       "    </tr>\n",
       "    <tr>\n",
       "      <th>3</th>\n",
       "      <td>UNK</td>\n",
       "      <td>AL01</td>\n",
       "      <td>2021</td>\n",
       "      <td>0</td>\n",
       "    </tr>\n",
       "    <tr>\n",
       "      <th>4</th>\n",
       "      <td>UNK</td>\n",
       "      <td>AL011</td>\n",
       "      <td>2021</td>\n",
       "      <td>0</td>\n",
       "    </tr>\n",
       "  </tbody>\n",
       "</table>\n",
       "</div>"
      ],
      "text/plain": [
       "   age    geo  TIME_PERIOD  OBS_VALUE\n",
       "0  UNK     AL         2021          0\n",
       "1  UNK     AL         2022          0\n",
       "2  UNK    AL0         2021          0\n",
       "3  UNK   AL01         2021          0\n",
       "4  UNK  AL011         2021          0"
      ]
     },
     "execution_count": 28,
     "metadata": {},
     "output_type": "execute_result"
    }
   ],
   "source": [
    "# load dataset\n",
    "df_age = pd.read_csv(age_path)\n",
    "# drop useless columns\n",
    "df_age.drop(columns=['STRUCTURE', 'STRUCTURE_ID', 'freq', 'sex', 'unit', 'OBS_FLAG'], inplace=True)\n",
    "df_age.head()"
   ]
  },
  {
   "cell_type": "code",
   "execution_count": 29,
   "metadata": {},
   "outputs": [],
   "source": [
    "# filter by time\n",
    "year = 2022\n",
    "\n",
    "df_age = filter_year(df_age, year)\n",
    "df_age, resolution = filter_precision(df_age)"
   ]
  },
  {
   "cell_type": "code",
   "execution_count": 30,
   "metadata": {},
   "outputs": [
    {
     "name": "stdout",
     "output_type": "stream",
     "text": [
      "[0]\n"
     ]
    }
   ],
   "source": [
    "# unknown age is always 0, so it can be dropped\n",
    "print(df_age.loc[df_age['age']=='UNK', 'OBS_VALUE'].unique())\n",
    "df_age = df_age[df_age['age']!='UNK']"
   ]
  },
  {
   "cell_type": "code",
   "execution_count": 31,
   "metadata": {},
   "outputs": [],
   "source": [
    "df_age = rename_cols(df_age, 'count', resolution)"
   ]
  },
  {
   "cell_type": "code",
   "execution_count": 32,
   "metadata": {},
   "outputs": [
    {
     "data": {
      "text/plain": [
       "array(['Y10-14', 'Y15-19', 'Y20-24', 'Y25-29', 'Y30-34', 'Y35-39',\n",
       "       'Y40-44', 'Y45-49', 'Y5-9', 'Y50-54', 'Y55-59', 'Y60-64', 'Y65-69',\n",
       "       'Y70-74', 'Y75-79', 'Y80-84', 'Y85-89', 'Y_GE85', 'Y_GE90',\n",
       "       'Y_LT5'], dtype=object)"
      ]
     },
     "execution_count": 32,
     "metadata": {},
     "output_type": "execute_result"
    }
   ],
   "source": [
    "df_age['age'].unique()"
   ]
  },
  {
   "cell_type": "code",
   "execution_count": 33,
   "metadata": {},
   "outputs": [],
   "source": [
    "# regroup age ranges\n",
    "under_20 = ['Y_LT5', 'Y5-9', 'Y10-14', 'Y15-19']\n",
    "between_20_64 = ['Y20-24', 'Y25-29', 'Y30-34', 'Y35-39', 'Y40-44', 'Y45-49', 'Y50-54', 'Y55-59', 'Y60-64']\n",
    "over_64 = ['Y65-69', 'Y70-74', 'Y75-79', 'Y80-84', 'Y85-89', 'Y_GE90']"
   ]
  },
  {
   "cell_type": "code",
   "execution_count": 34,
   "metadata": {},
   "outputs": [],
   "source": [
    "df_under_20 = df_age[df_age['age'].isin(under_20)].groupby('nuts3').sum().reset_index()\n",
    "df_under_20.rename(columns={'count':'age_under_20'}, inplace=True)\n",
    "\n",
    "df_between_20_64 = df_age[df_age['age'].isin(between_20_64)].groupby('nuts3').sum().reset_index()\n",
    "df_between_20_64.rename(columns={'count':'age_between_20_64'}, inplace=True)\n",
    "\n",
    "df_over_64 = df_age[df_age['age'].isin(over_64)].groupby('nuts3').sum().reset_index()\n",
    "df_over_64.rename(columns={'count':'age_over_64'}, inplace=True)"
   ]
  },
  {
   "cell_type": "code",
   "execution_count": 35,
   "metadata": {},
   "outputs": [
    {
     "data": {
      "text/html": [
       "<div>\n",
       "<style scoped>\n",
       "    .dataframe tbody tr th:only-of-type {\n",
       "        vertical-align: middle;\n",
       "    }\n",
       "\n",
       "    .dataframe tbody tr th {\n",
       "        vertical-align: top;\n",
       "    }\n",
       "\n",
       "    .dataframe thead th {\n",
       "        text-align: right;\n",
       "    }\n",
       "</style>\n",
       "<table border=\"1\" class=\"dataframe\">\n",
       "  <thead>\n",
       "    <tr style=\"text-align: right;\">\n",
       "      <th></th>\n",
       "      <th>nuts3</th>\n",
       "      <th>age_under_20</th>\n",
       "      <th>age_between_20_64</th>\n",
       "      <th>age_over_64</th>\n",
       "    </tr>\n",
       "  </thead>\n",
       "  <tbody>\n",
       "    <tr>\n",
       "      <th>0</th>\n",
       "      <td>AL011</td>\n",
       "      <td>29897</td>\n",
       "      <td>62959</td>\n",
       "      <td>16729</td>\n",
       "    </tr>\n",
       "    <tr>\n",
       "      <th>1</th>\n",
       "      <td>AL012</td>\n",
       "      <td>66842</td>\n",
       "      <td>178378</td>\n",
       "      <td>46105</td>\n",
       "    </tr>\n",
       "    <tr>\n",
       "      <th>2</th>\n",
       "      <td>AL013</td>\n",
       "      <td>19868</td>\n",
       "      <td>40965</td>\n",
       "      <td>11935</td>\n",
       "    </tr>\n",
       "    <tr>\n",
       "      <th>3</th>\n",
       "      <td>AL014</td>\n",
       "      <td>28043</td>\n",
       "      <td>69084</td>\n",
       "      <td>20156</td>\n",
       "    </tr>\n",
       "    <tr>\n",
       "      <th>4</th>\n",
       "      <td>AL015</td>\n",
       "      <td>44214</td>\n",
       "      <td>119305</td>\n",
       "      <td>29490</td>\n",
       "    </tr>\n",
       "  </tbody>\n",
       "</table>\n",
       "</div>"
      ],
      "text/plain": [
       "   nuts3  age_under_20  age_between_20_64  age_over_64\n",
       "0  AL011         29897              62959        16729\n",
       "1  AL012         66842             178378        46105\n",
       "2  AL013         19868              40965        11935\n",
       "3  AL014         28043              69084        20156\n",
       "4  AL015         44214             119305        29490"
      ]
     },
     "execution_count": 35,
     "metadata": {},
     "output_type": "execute_result"
    }
   ],
   "source": [
    "df_age_export = pd.merge(df_under_20, df_between_20_64, on='nuts3')\n",
    "df_age_export = pd.merge(df_age_export, df_over_64, on='nuts3')\n",
    "df_age_export.head()"
   ]
  },
  {
   "cell_type": "code",
   "execution_count": 147,
   "metadata": {},
   "outputs": [],
   "source": [
    "# export clean table to csv\n",
    "df_age_export.to_csv(data_folder+f'age/age_nuts3_{year}_clean.csv', index=False)"
   ]
  },
  {
   "cell_type": "markdown",
   "metadata": {},
   "source": [
    "## Employment rate dataset\n",
    "| Unit | Resolution | Categories | \n",
    "|---|---|---|\n",
    "|Percentage | NUTS-2 | 2 |\n",
    "\n",
    "Categories: between 20-64, and over 64"
   ]
  },
  {
   "cell_type": "code",
   "execution_count": 33,
   "metadata": {},
   "outputs": [
    {
     "data": {
      "text/html": [
       "<div>\n",
       "<style scoped>\n",
       "    .dataframe tbody tr th:only-of-type {\n",
       "        vertical-align: middle;\n",
       "    }\n",
       "\n",
       "    .dataframe tbody tr th {\n",
       "        vertical-align: top;\n",
       "    }\n",
       "\n",
       "    .dataframe thead th {\n",
       "        text-align: right;\n",
       "    }\n",
       "</style>\n",
       "<table border=\"1\" class=\"dataframe\">\n",
       "  <thead>\n",
       "    <tr style=\"text-align: right;\">\n",
       "      <th></th>\n",
       "      <th>age</th>\n",
       "      <th>geo</th>\n",
       "      <th>TIME_PERIOD</th>\n",
       "      <th>OBS_VALUE</th>\n",
       "    </tr>\n",
       "  </thead>\n",
       "  <tbody>\n",
       "    <tr>\n",
       "      <th>0</th>\n",
       "      <td>Y20-64</td>\n",
       "      <td>AT</td>\n",
       "      <td>2021</td>\n",
       "      <td>75.6</td>\n",
       "    </tr>\n",
       "    <tr>\n",
       "      <th>1</th>\n",
       "      <td>Y20-64</td>\n",
       "      <td>AT</td>\n",
       "      <td>2022</td>\n",
       "      <td>77.3</td>\n",
       "    </tr>\n",
       "    <tr>\n",
       "      <th>2</th>\n",
       "      <td>Y20-64</td>\n",
       "      <td>AT1</td>\n",
       "      <td>2021</td>\n",
       "      <td>73.2</td>\n",
       "    </tr>\n",
       "    <tr>\n",
       "      <th>3</th>\n",
       "      <td>Y20-64</td>\n",
       "      <td>AT1</td>\n",
       "      <td>2022</td>\n",
       "      <td>74.6</td>\n",
       "    </tr>\n",
       "    <tr>\n",
       "      <th>4</th>\n",
       "      <td>Y20-64</td>\n",
       "      <td>AT11</td>\n",
       "      <td>2021</td>\n",
       "      <td>74.9</td>\n",
       "    </tr>\n",
       "  </tbody>\n",
       "</table>\n",
       "</div>"
      ],
      "text/plain": [
       "      age   geo  TIME_PERIOD  OBS_VALUE\n",
       "0  Y20-64    AT         2021       75.6\n",
       "1  Y20-64    AT         2022       77.3\n",
       "2  Y20-64   AT1         2021       73.2\n",
       "3  Y20-64   AT1         2022       74.6\n",
       "4  Y20-64  AT11         2021       74.9"
      ]
     },
     "execution_count": 33,
     "metadata": {},
     "output_type": "execute_result"
    }
   ],
   "source": [
    "# load dataset\n",
    "df_employment = pd.read_csv(employment_rate_path)\n",
    "# drop useless columns\n",
    "df_employment.drop(columns=['STRUCTURE', 'STRUCTURE_ID', 'freq', 'sex', 'unit', 'OBS_FLAG'], inplace=True)\n",
    "df_employment.head()"
   ]
  },
  {
   "cell_type": "code",
   "execution_count": 34,
   "metadata": {},
   "outputs": [],
   "source": [
    "# filter by time\n",
    "df_employment = filter_year(df_employment, year)\n",
    "\n",
    "# filter by max precision (NUTS 2)\n",
    "df_employment, resolution = filter_precision(df_employment)"
   ]
  },
  {
   "cell_type": "code",
   "execution_count": 35,
   "metadata": {},
   "outputs": [],
   "source": [
    "df_employment = rename_cols(df_employment, 'employment_rate', resolution)"
   ]
  },
  {
   "cell_type": "code",
   "execution_count": 42,
   "metadata": {},
   "outputs": [],
   "source": [
    "df_between_20_64 = df_employment[df_employment['age']=='Y20-64'].groupby('nuts2').sum().reset_index()\n",
    "df_between_20_64.rename(columns={'employment_rate':'employment_rate_between_20_64'}, inplace=True)\n",
    "\n",
    "df_over_64 = df_employment[df_employment['age']=='Y_GE65'].groupby('nuts2').sum().reset_index()\n",
    "df_over_64.rename(columns={'employment_rate':'employment_rate_over_64'}, inplace=True)"
   ]
  },
  {
   "cell_type": "code",
   "execution_count": 43,
   "metadata": {},
   "outputs": [
    {
     "data": {
      "text/html": [
       "<div>\n",
       "<style scoped>\n",
       "    .dataframe tbody tr th:only-of-type {\n",
       "        vertical-align: middle;\n",
       "    }\n",
       "\n",
       "    .dataframe tbody tr th {\n",
       "        vertical-align: top;\n",
       "    }\n",
       "\n",
       "    .dataframe thead th {\n",
       "        text-align: right;\n",
       "    }\n",
       "</style>\n",
       "<table border=\"1\" class=\"dataframe\">\n",
       "  <thead>\n",
       "    <tr style=\"text-align: right;\">\n",
       "      <th></th>\n",
       "      <th>nuts2</th>\n",
       "      <th>employment_rate_between_20_64</th>\n",
       "      <th>employment_rate_over_64</th>\n",
       "    </tr>\n",
       "  </thead>\n",
       "  <tbody>\n",
       "    <tr>\n",
       "      <th>0</th>\n",
       "      <td>AT11</td>\n",
       "      <td>76.5</td>\n",
       "      <td>0.0</td>\n",
       "    </tr>\n",
       "    <tr>\n",
       "      <th>1</th>\n",
       "      <td>AT12</td>\n",
       "      <td>78.5</td>\n",
       "      <td>4.2</td>\n",
       "    </tr>\n",
       "    <tr>\n",
       "      <th>2</th>\n",
       "      <td>AT13</td>\n",
       "      <td>71.2</td>\n",
       "      <td>5.7</td>\n",
       "    </tr>\n",
       "    <tr>\n",
       "      <th>3</th>\n",
       "      <td>AT21</td>\n",
       "      <td>75.8</td>\n",
       "      <td>4.3</td>\n",
       "    </tr>\n",
       "    <tr>\n",
       "      <th>4</th>\n",
       "      <td>AT22</td>\n",
       "      <td>77.6</td>\n",
       "      <td>5.1</td>\n",
       "    </tr>\n",
       "  </tbody>\n",
       "</table>\n",
       "</div>"
      ],
      "text/plain": [
       "  nuts2  employment_rate_between_20_64  employment_rate_over_64\n",
       "0  AT11                           76.5                      0.0\n",
       "1  AT12                           78.5                      4.2\n",
       "2  AT13                           71.2                      5.7\n",
       "3  AT21                           75.8                      4.3\n",
       "4  AT22                           77.6                      5.1"
      ]
     },
     "execution_count": 43,
     "metadata": {},
     "output_type": "execute_result"
    }
   ],
   "source": [
    "df_employment_export = pd.merge(df_between_20_64, df_over_64, on='nuts2')\n",
    "df_employment_export.head()"
   ]
  },
  {
   "cell_type": "code",
   "execution_count": 44,
   "metadata": {},
   "outputs": [],
   "source": [
    "# export clean table to csv\n",
    "df_employment_export.to_csv(data_folder+f'employment_rate/employment_rate_nuts2_{year}_clean.csv', index=False)"
   ]
  },
  {
   "cell_type": "markdown",
   "metadata": {},
   "source": [
    "## Employment type dataset\n",
    "| Unit | Resolution | Categories | \n",
    "|---|---|---|\n",
    "|Percentage | NUTS-3 | 10 |"
   ]
  },
  {
   "cell_type": "code",
   "execution_count": 148,
   "metadata": {},
   "outputs": [
    {
     "data": {
      "text/html": [
       "<div>\n",
       "<style scoped>\n",
       "    .dataframe tbody tr th:only-of-type {\n",
       "        vertical-align: middle;\n",
       "    }\n",
       "\n",
       "    .dataframe tbody tr th {\n",
       "        vertical-align: top;\n",
       "    }\n",
       "\n",
       "    .dataframe thead th {\n",
       "        text-align: right;\n",
       "    }\n",
       "</style>\n",
       "<table border=\"1\" class=\"dataframe\">\n",
       "  <thead>\n",
       "    <tr style=\"text-align: right;\">\n",
       "      <th></th>\n",
       "      <th>wstatus</th>\n",
       "      <th>nace_r2</th>\n",
       "      <th>geo</th>\n",
       "      <th>TIME_PERIOD</th>\n",
       "      <th>OBS_VALUE</th>\n",
       "    </tr>\n",
       "  </thead>\n",
       "  <tbody>\n",
       "    <tr>\n",
       "      <th>0</th>\n",
       "      <td>EMP</td>\n",
       "      <td>A</td>\n",
       "      <td>AT</td>\n",
       "      <td>2020</td>\n",
       "      <td>152.3</td>\n",
       "    </tr>\n",
       "    <tr>\n",
       "      <th>1</th>\n",
       "      <td>EMP</td>\n",
       "      <td>A</td>\n",
       "      <td>AT1</td>\n",
       "      <td>2020</td>\n",
       "      <td>45.9</td>\n",
       "    </tr>\n",
       "    <tr>\n",
       "      <th>2</th>\n",
       "      <td>EMP</td>\n",
       "      <td>A</td>\n",
       "      <td>AT11</td>\n",
       "      <td>2020</td>\n",
       "      <td>7.4</td>\n",
       "    </tr>\n",
       "    <tr>\n",
       "      <th>3</th>\n",
       "      <td>EMP</td>\n",
       "      <td>A</td>\n",
       "      <td>AT111</td>\n",
       "      <td>2020</td>\n",
       "      <td>0.8</td>\n",
       "    </tr>\n",
       "    <tr>\n",
       "      <th>4</th>\n",
       "      <td>EMP</td>\n",
       "      <td>A</td>\n",
       "      <td>AT112</td>\n",
       "      <td>2020</td>\n",
       "      <td>4.4</td>\n",
       "    </tr>\n",
       "  </tbody>\n",
       "</table>\n",
       "</div>"
      ],
      "text/plain": [
       "  wstatus nace_r2    geo  TIME_PERIOD  OBS_VALUE\n",
       "0     EMP       A     AT         2020      152.3\n",
       "1     EMP       A    AT1         2020       45.9\n",
       "2     EMP       A   AT11         2020        7.4\n",
       "3     EMP       A  AT111         2020        0.8\n",
       "4     EMP       A  AT112         2020        4.4"
      ]
     },
     "execution_count": 148,
     "metadata": {},
     "output_type": "execute_result"
    }
   ],
   "source": [
    "# load dataset\n",
    "df_employment_type = pd.read_csv(employment_type_path)\n",
    "# drop useless columns\n",
    "df_employment_type.drop(columns=['STRUCTURE', 'STRUCTURE_ID', 'freq', 'unit', 'OBS_FLAG'], inplace=True)\n",
    "df_employment_type.head()"
   ]
  },
  {
   "cell_type": "code",
   "execution_count": 149,
   "metadata": {},
   "outputs": [],
   "source": [
    "# filters\n",
    "df_employment_type, resolution = filter_precision(df_employment_type)\n",
    "year=2020\n",
    "df_employment_type = filter_year(df_employment_type, year)\n",
    "df_employment_type = rename_cols(df_employment_type, 'employment_thousand_persons', resolution)\n",
    "# keep only 'employed person' as it contains 'employee'\n",
    "df_employment_type = df_employment_type[df_employment_type['wstatus']=='EMP']\n",
    "df_employment_type.drop(columns='wstatus', inplace=True)"
   ]
  },
  {
   "cell_type": "code",
   "execution_count": 150,
   "metadata": {},
   "outputs": [],
   "source": [
    "# pivot\n",
    "df_employment_type_export = df_employment_type.pivot(index='nuts3', columns='nace_r2', values='employment_thousand_persons' )\n",
    "df_employment_type_export.reset_index(inplace=True)\n",
    "df_employment_type_export = df_employment_type_export.rename_axis(None, axis=1)\n",
    "df_employment_type_export.drop(columns=['C', 'G-J', 'K-N', 'O-U'], inplace=True)"
   ]
  },
  {
   "cell_type": "code",
   "execution_count": 151,
   "metadata": {},
   "outputs": [],
   "source": [
    "df_employment_type_export = df_employment_type_export.rename(columns={\n",
    "    'A': 'Agriculture',\n",
    "    'B-E': 'Industry',\n",
    "    #'C': 'Manufacturing',\n",
    "    'F': 'Construction',\n",
    "    'G-I': 'Wholesale, retail trade, transport, accomodation and food service',\n",
    "    'J': 'Information and communication',\n",
    "    'K': 'Finance, insurance',\n",
    "    'L': 'Real estate',\n",
    "    'M_N': 'Professional, scientific and technical, administrative',\n",
    "    'O-Q': 'Public administration, defence, education, health, social',\n",
    "    'R-U': 'Arts, entertainment, other service',\n",
    "    })"
   ]
  },
  {
   "cell_type": "code",
   "execution_count": 152,
   "metadata": {},
   "outputs": [
    {
     "data": {
      "text/html": [
       "<div>\n",
       "<style scoped>\n",
       "    .dataframe tbody tr th:only-of-type {\n",
       "        vertical-align: middle;\n",
       "    }\n",
       "\n",
       "    .dataframe tbody tr th {\n",
       "        vertical-align: top;\n",
       "    }\n",
       "\n",
       "    .dataframe thead th {\n",
       "        text-align: right;\n",
       "    }\n",
       "</style>\n",
       "<table border=\"1\" class=\"dataframe\">\n",
       "  <thead>\n",
       "    <tr style=\"text-align: right;\">\n",
       "      <th></th>\n",
       "      <th>nuts3</th>\n",
       "      <th>Agriculture</th>\n",
       "      <th>Industry</th>\n",
       "      <th>Construction</th>\n",
       "      <th>Wholesale, retail trade, transport, accomodation and food service</th>\n",
       "      <th>Information and communication</th>\n",
       "      <th>Finance, insurance</th>\n",
       "      <th>Real estate</th>\n",
       "      <th>Professional, scientific and technical, administrative</th>\n",
       "      <th>Public administration, defence, education, health, social</th>\n",
       "      <th>Arts, entertainment, other service</th>\n",
       "      <th>TOTAL</th>\n",
       "    </tr>\n",
       "  </thead>\n",
       "  <tbody>\n",
       "    <tr>\n",
       "      <th>0</th>\n",
       "      <td>AT111</td>\n",
       "      <td>0.8</td>\n",
       "      <td>2.5</td>\n",
       "      <td>2.1</td>\n",
       "      <td>NaN</td>\n",
       "      <td>NaN</td>\n",
       "      <td>NaN</td>\n",
       "      <td>NaN</td>\n",
       "      <td>NaN</td>\n",
       "      <td>NaN</td>\n",
       "      <td>NaN</td>\n",
       "      <td>13.8</td>\n",
       "    </tr>\n",
       "    <tr>\n",
       "      <th>1</th>\n",
       "      <td>AT112</td>\n",
       "      <td>4.4</td>\n",
       "      <td>8.9</td>\n",
       "      <td>5.9</td>\n",
       "      <td>NaN</td>\n",
       "      <td>NaN</td>\n",
       "      <td>NaN</td>\n",
       "      <td>NaN</td>\n",
       "      <td>NaN</td>\n",
       "      <td>NaN</td>\n",
       "      <td>NaN</td>\n",
       "      <td>70.1</td>\n",
       "    </tr>\n",
       "    <tr>\n",
       "      <th>2</th>\n",
       "      <td>AT113</td>\n",
       "      <td>2.2</td>\n",
       "      <td>5.8</td>\n",
       "      <td>3.9</td>\n",
       "      <td>NaN</td>\n",
       "      <td>NaN</td>\n",
       "      <td>NaN</td>\n",
       "      <td>NaN</td>\n",
       "      <td>NaN</td>\n",
       "      <td>NaN</td>\n",
       "      <td>NaN</td>\n",
       "      <td>38.5</td>\n",
       "    </tr>\n",
       "    <tr>\n",
       "      <th>3</th>\n",
       "      <td>AT121</td>\n",
       "      <td>8.3</td>\n",
       "      <td>27.7</td>\n",
       "      <td>9.0</td>\n",
       "      <td>NaN</td>\n",
       "      <td>NaN</td>\n",
       "      <td>NaN</td>\n",
       "      <td>NaN</td>\n",
       "      <td>NaN</td>\n",
       "      <td>NaN</td>\n",
       "      <td>NaN</td>\n",
       "      <td>106.3</td>\n",
       "    </tr>\n",
       "    <tr>\n",
       "      <th>4</th>\n",
       "      <td>AT122</td>\n",
       "      <td>4.3</td>\n",
       "      <td>22.3</td>\n",
       "      <td>8.5</td>\n",
       "      <td>NaN</td>\n",
       "      <td>NaN</td>\n",
       "      <td>NaN</td>\n",
       "      <td>NaN</td>\n",
       "      <td>NaN</td>\n",
       "      <td>NaN</td>\n",
       "      <td>NaN</td>\n",
       "      <td>107.1</td>\n",
       "    </tr>\n",
       "  </tbody>\n",
       "</table>\n",
       "</div>"
      ],
      "text/plain": [
       "   nuts3  Agriculture  Industry  Construction  \\\n",
       "0  AT111          0.8       2.5           2.1   \n",
       "1  AT112          4.4       8.9           5.9   \n",
       "2  AT113          2.2       5.8           3.9   \n",
       "3  AT121          8.3      27.7           9.0   \n",
       "4  AT122          4.3      22.3           8.5   \n",
       "\n",
       "   Wholesale, retail trade, transport, accomodation and food service  \\\n",
       "0                                                NaN                   \n",
       "1                                                NaN                   \n",
       "2                                                NaN                   \n",
       "3                                                NaN                   \n",
       "4                                                NaN                   \n",
       "\n",
       "   Information and communication  Finance, insurance  Real estate  \\\n",
       "0                            NaN                 NaN          NaN   \n",
       "1                            NaN                 NaN          NaN   \n",
       "2                            NaN                 NaN          NaN   \n",
       "3                            NaN                 NaN          NaN   \n",
       "4                            NaN                 NaN          NaN   \n",
       "\n",
       "   Professional, scientific and technical, administrative  \\\n",
       "0                                                NaN        \n",
       "1                                                NaN        \n",
       "2                                                NaN        \n",
       "3                                                NaN        \n",
       "4                                                NaN        \n",
       "\n",
       "   Public administration, defence, education, health, social  \\\n",
       "0                                                NaN           \n",
       "1                                                NaN           \n",
       "2                                                NaN           \n",
       "3                                                NaN           \n",
       "4                                                NaN           \n",
       "\n",
       "   Arts, entertainment, other service  TOTAL  \n",
       "0                                 NaN   13.8  \n",
       "1                                 NaN   70.1  \n",
       "2                                 NaN   38.5  \n",
       "3                                 NaN  106.3  \n",
       "4                                 NaN  107.1  "
      ]
     },
     "execution_count": 152,
     "metadata": {},
     "output_type": "execute_result"
    }
   ],
   "source": [
    "df_employment_type_export.head()"
   ]
  },
  {
   "cell_type": "markdown",
   "metadata": {},
   "source": [
    "Some data is missing but can be inferred from the informed data  \n",
    "For now, a mean imputation is performed, it can later be replaced by a regression model, or crossing other datasets"
   ]
  },
  {
   "cell_type": "code",
   "execution_count": 178,
   "metadata": {},
   "outputs": [
    {
     "name": "stdout",
     "output_type": "stream",
     "text": [
      "1198 1190 1187 1194 692 693 694 694 697 701 697 1198 "
     ]
    }
   ],
   "source": [
    "for c in df_employment_type_export.columns:\n",
    "    print(len(df_employment_type_export[c].dropna()), end = ' ')"
   ]
  },
  {
   "cell_type": "code",
   "execution_count": 159,
   "metadata": {},
   "outputs": [],
   "source": [
    "def df_to_percent(df, index):\n",
    "    '''\n",
    "    Replace values by percentages per row\n",
    "    Args:\n",
    "        df (DataFrame): the dataframe to transform\n",
    "        index (str): the name of the column to consider as index\n",
    "    Returns:\n",
    "        the same dataframe with values in percentages \n",
    "    '''\n",
    "    df = df.set_index(index)\n",
    "    df = df.div(df.sum(axis=1), axis=0)\n",
    "    return df.reset_index()"
   ]
  },
  {
   "cell_type": "code",
   "execution_count": 162,
   "metadata": {},
   "outputs": [],
   "source": [
    "# drop TOTAL to compute percentages\n",
    "df_employment_type_percent = df_employment_type_export.copy().dropna().drop(columns='TOTAL')\n",
    "df_employment_type_percent = df_to_percent(df_employment_type_percent, 'nuts3')"
   ]
  },
  {
   "cell_type": "code",
   "execution_count": 177,
   "metadata": {},
   "outputs": [
    {
     "data": {
      "application/vnd.plotly.v1+json": {
       "config": {
        "plotlyServerURL": "https://plot.ly"
       },
       "data": [
        {
         "alignmentgroup": "True",
         "bingroup": "x",
         "hovertemplate": "Construction=%{x}<br>count=%{y}<extra></extra>",
         "legendgroup": "",
         "marker": {
          "color": "#636efa",
          "pattern": {
           "shape": ""
          }
         },
         "name": "",
         "offsetgroup": "",
         "orientation": "v",
         "showlegend": false,
         "type": "histogram",
         "x": [
          0.029796205200281096,
          0.05355345278840346,
          0.05286624203821656,
          0.08175473579262213,
          0.08201892744479496,
          0.05968688845401174,
          0.09041980624327234,
          0.08152173913043478,
          0.10413476263399694,
          0.07641196013289035,
          0.05445544554455447,
          0.09255079006772009,
          0.0945179584120983,
          0.04750261962975899,
          0.0377643504531722,
          0.05476369092273067,
          0.12021857923497269,
          0.06852248394004283,
          0.08061153578874218,
          0.06666666666666667,
          0.07990012484394508,
          0.09677419354838711,
          0.05622489959839356,
          0.046525323910482926,
          0.04215456674473068,
          0.060043668122270744,
          0.08706467661691542,
          0.07068062827225133,
          0.06573116691285082,
          0.08832807570977917,
          0.0648854961832061,
          0.0733695652173913,
          0.055964052287581695,
          0.10144927536231885,
          0.10288065843621401,
          0.06761565836298933,
          0.038277511961722493,
          0.0967741935483871,
          0.08474576271186442,
          0.1356589147286822,
          0.06617647058823531,
          0.08333333333333333,
          0.05506072874493927,
          0.07734806629834255,
          0.03454057679409792,
          0.04243048403707519,
          0.046410568399096123,
          0.04036013660353927,
          0.027639689799164844,
          0.05816904157720087,
          0.03190872171726939,
          0.0418108134822576,
          0.04379999999999999,
          0.03802785761662614,
          0.09168704156479218,
          0.028862934622096926,
          0.049655672345052554,
          0.05658242172764995,
          0.07063016361574598,
          0.03717575253155778,
          0.04628035953337159,
          0.04573590096286107,
          0.06403858074955084,
          0.039978390059427334,
          0.06412583182093164,
          0.07239014478028957,
          0.05379086482726639,
          0.05178534753396121,
          0.0477507178560034,
          0.04227759287577584,
          0.04387291981845688,
          0.05156509904733102,
          0.08886716529883831,
          0.07407407407407407,
          0.0627062706270627,
          0.07947019867549669,
          0.06968641114982578,
          0.07633587786259542,
          0.09803921568627451,
          0.06372549019607843,
          0.061068702290076333,
          0.07421875,
          0.0846774193548387,
          0.08361204013377926,
          0.07744107744107744,
          0.08185053380782918,
          0.07130124777183601,
          0.038834951456310676,
          0.03651685393258427,
          0.058823529411764705,
          0.0625,
          0.07339449541284404,
          0.0752212389380531,
          0.07017543859649122,
          0.07297297297297298,
          0.08558558558558559,
          0.07709251101321586,
          0.08421052631578947,
          0.4,
          0.07368451978729028,
          0.09832942555685815,
          0.059541078728735326,
          0.039208554593729544,
          0.027358920737747445,
          0.03304295584259537,
          0.0331588940860464,
          0.02569014084507042,
          0.022232515053265404,
          0.03652173913043478,
          0.06121343445287108,
          0.057499999999999996,
          0.04024853936752295,
          0.08833063209076177,
          0.047257675060365635,
          0.04996379435191891,
          0.06541540160088324,
          0.05006473888649115,
          0.03233056708160443,
          0.047521600727603454,
          0.02132974634896234,
          0.042406669083001086,
          0.03659652333028361,
          0.025891115446001062,
          0.03338884263114071,
          0.033192090395480225,
          0.034672159285959486,
          0.05092204526404024,
          0.030412164865946383,
          0.04376498800959232,
          0.06444444444444443,
          0.030054644808743175,
          0.03825136612021857,
          0.04914444886589734,
          0.04868494683827644,
          0.06621685234583398,
          0.05120481927710842,
          0.04005911636589919,
          0.03501063075832743,
          0.05626204238921001,
          0.04552946023897816,
          0.07598784194528876,
          0.07416267942583732,
          0.04119425547996975,
          0.047315496498473684,
          0.04957713619130942,
          0.035492010092514716,
          0.06953937592867757,
          0.04860267314702307,
          0.03900614480363345,
          0.034122562674094706,
          0.056462501534307104,
          0.04633699633699634,
          0.0431196100487439,
          0.08426183844011141,
          0.08174355416811191,
          0.07077809798270893,
          0.08356969205834684,
          0.07598102630444158,
          0.07609561752988046,
          0.08534073609742991,
          0.07670795045944867,
          0.09148148148148148,
          0.07467974925047698,
          0.0764751552795031,
          0.07825342465753425,
          0.08915571523116196,
          0.07037668578514958,
          0.06987325316867077,
          0.08221749468151672,
          0.06483715319662242,
          0.08988638895076854,
          0.08549365692222834,
          0.018154341437481233,
          0.08648848572151602,
          0.07375557844146928,
          0.08242178074479209,
          0.039525379731294066,
          0.08558452973923236,
          0.07765451664025357,
          0.08584060222248775,
          0.059675336653753915,
          0.06745626574092982,
          0.05912914398812469,
          0.06988674480091552,
          0.06738010305192231,
          0.0672015336007668,
          0.0636691552722087,
          0.05631514823338298,
          0.06674710424710426,
          0.05967540574282148,
          0.05718329794762915,
          0.06909090909090909,
          0.06313097321308386,
          0.051360091306828996,
          0.06581881533101047,
          0.07579936663602004,
          0.06918666796229717,
          0.07465322873915528,
          0.06956900477123795,
          0.053173096799654214,
          0.07014355805924041,
          0.06363691303559557,
          0.0706746046239819,
          0.054024000370662094,
          0.06311534459297206,
          0.07300696319454313,
          0.0609383832673827,
          0.06824820748871382,
          0.06053328916859887,
          0.05249343832020997,
          0.06018430733057757,
          0.06325794821370043,
          0.06302532741336461,
          0.07478567054500919,
          0.06767822736030826,
          0.06572187776793624,
          0.0687616677037959,
          0.05754902408922613,
          0.08651665166516652,
          0.07497040641851901,
          0.06370439406814504,
          0.06326482119520019,
          0.07582693697724849,
          0.0848217364319702,
          0.06888918345705197,
          0.07788429752066116,
          0.06598944168932971,
          0.07392320770756589,
          0.06432810512929207,
          0.0564334085778781,
          0.05956399437412095,
          0.0686317006212975,
          0.07819827231591939,
          0.06342154400875667,
          0.06429517066712716,
          0.06827247621969929,
          0.07574331215187886,
          0.06783482574244669,
          0.07422746097483275,
          0.07639934927999037,
          0.07742905468896823,
          0.0799423838674829,
          0.06510223925000362,
          0.0671725688589095,
          0.07182662538699691,
          0.07062978222483814,
          0.07015875338356865,
          0.07213850593138826,
          0.0650309873503693,
          0.08362989323843417,
          0.07878334579905259,
          0.06243614070938548,
          0.07110309045792916,
          0.07986952469711091,
          0.0761545797193588,
          0.0720192708926065,
          0.07390864361238092,
          0.05998608903020668,
          0.08118890883702375,
          0.07993640699523052,
          0.07432885906040268,
          0.07860998650472335,
          0.0686631795575373,
          0.06176515004422583,
          0.07901941895249202,
          0.07696583572069954,
          0.11291512915129152,
          0.11359461114513167,
          0.055373320837238366,
          0.05292373203558664,
          0.05875557022610992,
          0.060873560200833524,
          0.09969481180061038,
          0.05675196351659489,
          0.05032405642394205,
          0.04966139954853274,
          0.0997144217039505,
          0.08602976476236199,
          0.06436369561675086,
          0.06307692307692307,
          0.07397806580259221,
          0.07429560837399653,
          0.06670784434836319,
          0.06741573033707866,
          0.059263693504938646,
          0.08646827624929813,
          0.08751197700415204,
          0.07735767057800956,
          0.07638273636248576,
          0.11078386950611688,
          0.08235131013447942,
          0.06445359825539132,
          0.10510877536054752,
          0.10514517506404783,
          0.058750807270043365,
          0.10479203963528873,
          0.08612217452025034,
          0.08570606844981307,
          0.08139621240252505,
          0.07766341398208797,
          0.08631034801070803,
          0.09835746914180192,
          0.08351901651940068,
          0.0889758250576788,
          0.15636278961462335,
          0.09143906357585495,
          0.0816452896948253,
          0.07276897414512094,
          0.09269272362119574,
          0.07080074187565519,
          0.0782942238267148,
          0.11875314228255406,
          0.08026575686837852,
          0.08486387911944769,
          null,
          0.07742179140177503,
          0.06766624476681919,
          0.07024813532881588,
          0.07162248021717786,
          0.062401906644189965,
          0.04554550751070244,
          0.06302902055622732,
          0.07532653426373233,
          0.052504768597530366,
          0.07038123167155425,
          0.06025824964131994,
          0.0773286467486819,
          0.06432360742705569,
          0.07455664133188564,
          0.07975460122699386,
          0.06909090909090908,
          0.08361774744027305,
          0.08344549125168235,
          0.08818011257035648,
          0.06768100734522561,
          0.06256860592755213,
          0.052039381153305204,
          0.06300553426990209,
          0.06510607168983175,
          0.07170795306388526,
          0.08827110389610389,
          0.07607167955024595,
          0.06512605042016807,
          0.0622617534942821,
          0.05500705218617772,
          0.056155507559395246,
          0.04662168965864465,
          0.06358885017421602,
          0.10267857142857144,
          0.0906122448979592,
          0.06841216216216216,
          0.06140350877192982,
          0.10034602076124566,
          0.07512953367875648,
          0.08363769174579987,
          0.0857787810383747,
          0.06680902989627822,
          0.07933194154488518,
          0.07133243606998654,
          0.050340849501835344,
          0.07086614173228346,
          0.0837573385518591,
          0.06673564407656492,
          0.06863758528013231,
          0.06008230452674897,
          0.0744920993227991,
          0.06857142857142857,
          0.062088428974600186,
          0.06822612085769982,
          0.07142857142857142,
          0.06404958677685951,
          0.06539833531510107,
          0.059064807219032005,
          0.051124197002141325,
          0.06717948717948719,
          0.05981465880370683,
          0.06714285714285714,
          0.06046511627906977,
          0.06140861466821887,
          0.06514084507042255,
          0.07376362112321877,
          0.07415605976757055,
          0.06721536351165981,
          0.059619238476953905,
          0.055658627087198514,
          0.07030430220356769,
          0.07655986509274872,
          0.06903200925568838,
          0.060544217687074825,
          0.05402102175507212,
          0.06345733041575492,
          0.06761044666829387,
          0.06642876749931374,
          0.05999552272218491,
          0.07257203842049091,
          0.053122756640344576,
          0.05753542292829541,
          0.06284658040665433,
          0.05149812734082397,
          0.0529455630126771,
          0.06277436347673399,
          0.05974969721437224,
          0.05800865800865802,
          0.05016089343176225,
          0.051223241590214075,
          0.055264688772542175,
          0.06287262872628725,
          0.06129247168554297,
          0.07417974322396577,
          0.07421625079974407,
          0.0674955595026643,
          0.051206010280743376,
          0.05107741420590583,
          0.059139784946236555,
          0.06192286800651819,
          0.06856754921928038,
          0.0608272506082725,
          0.0638063806380638,
          0.06170598911070781,
          0.0713463751438435,
          0.05802707930367505,
          0.0497886331611085,
          0.06725794530672578,
          0.06557377049180328,
          0.053314121037463975,
          0.0730550284629981,
          0.07307692307692308,
          0.052631578947368425,
          0.07190795781399807,
          0.09240729841082988,
          0,
          0.0671355853771402,
          0.07071622846781506,
          0.0796906796906797,
          0.07242888402625819,
          0.07574074074074073,
          0.092362548884288,
          0.06802276756555006,
          0.08247950819672133,
          0.12261146496815285,
          0.053357047576700754,
          0.10473968826211429,
          0.0773858075040783,
          0.0499753086419753,
          0.08112251205340586,
          0.08286803155189222,
          0.06742171885409727,
          0.09456928838951312,
          0.0292326431181486,
          0.032932495217272484,
          0.1168579520047697,
          0.029805480025099352,
          0.025503587792859,
          0.20667125171939482,
          0.12987934705464868,
          0.0877133251053326,
          0.06120949971435567,
          0.08689558514365803,
          null,
          0.057971014492753624,
          0.04787234042553192,
          0.04175921812527765,
          0.0593607305936073,
          0.062404870624048696,
          0.053266331658291456,
          0.04943820224719102,
          0.059620596205962065,
          0.05160390516039052,
          0.06420765027322405,
          0.045766590389016024,
          0.06624126405347919,
          0.07166969618280966,
          0.07567567567567568,
          0.056281407035175875,
          0.042994042994043,
          0.05350454788657036,
          0.05238959467634603,
          0.07928531546621999,
          0.07558139534883722,
          0.039234449760765545,
          0.0915208613728129,
          0.04284621270084162,
          0.06265876375952584,
          0.030967260516742846,
          0.05510809665112336,
          0.056142668428005284,
          0.05162523900573614,
          0.097385955920041,
          0.0858974358974359,
          0.057434176561693334,
          0.06457925636007829,
          0.06345733041575491,
          0.05628571428571427,
          0.05468164794007491,
          0.07819589004536961,
          0.05056060926591919,
          0.03567181926278241,
          0.053833605220228384,
          0.04026622296173045,
          0,
          0.09444444444444444,
          0.08677685950413223,
          0.07335907335907337,
          0.08787878787878788,
          0.08029197080291971,
          0,
          0.07584641573671269,
          0.0992619926199262,
          0.10318471337579617,
          0.13173957273652084,
          0.10096575943810361,
          0.07606490872210955,
          0.06953966699314398,
          0.06616862326574174,
          0.06511839708561021,
          0.08189655172413794,
          0.05949429846306395,
          0.05678485737136764,
          0.06450270495214315,
          0.06993392070484582,
          0.07590759075907592,
          0.09005321326238232,
          0.065672497849154,
          0.07828454731109598,
          0.09486000835771,
          0.09114249037227214,
          0.08980355472404115,
          0.10621942697414394,
          0.09056316590563165,
          0.10005184033177814,
          0.06740878169449599,
          0.07710940654016957,
          0.055977229601518026,
          0.0728879072335726,
          0.07396622015142691,
          0.059313725490196076,
          0.06456755679553605,
          0.07130434782608694,
          0.09161190568225742,
          0.0827087794432548,
          0.07863695937090433,
          0.08960843373493975,
          0.08157524613220817,
          0.09117221418234442,
          0.08710801393728224,
          0.08272692454998086,
          0.0982948846539619,
          0.07526115859449191,
          0.14063237376120813,
          0.07358636715724245,
          0.10550996483001172,
          0.09025032938076415,
          0.05579171094580234,
          0.07629255989911726,
          0.07068690095846646,
          0.06938325991189426,
          0.0619891008174387,
          0.0927643784786642,
          0.07602635580334514,
          0.05672461116193961,
          0.04879182156133829,
          0.05945165945165946,
          0.05894962486602359,
          0.09043478260869567,
          0.09311424100156496,
          0.10566037735849057,
          0.0826972010178117,
          0.08656447249774572,
          0.08793324775353016,
          0.06789524733268672,
          0.06280938083258947,
          0.09496021220159151,
          0.07692307692307691,
          0.07713498622589532,
          0.07160096540627515,
          0.08946171341925702,
          0.07777013076393668,
          0.07108721624850657,
          0.06122448979591836,
          0.09147334147334149,
          0.1189528170416086,
          0.07114337568058078,
          0.053161537799525434,
          0.08596491228070174,
          0.15104136947218255,
          0.05511638120333772,
          0.04140903129098744,
          0.0821760850634768,
          0.06618853704491583,
          0.047172444593312116,
          0.06559031281533804,
          0.09862772437073458,
          0.0954135199852643,
          0.05764192139737992,
          0.07805612299752714,
          0.05745042492917847,
          0.05457942107894884,
          0.05464025026068823,
          0.050135501355013545,
          0.05104957130186262,
          0.04085297418630752,
          0.046875,
          0.06345199756288623,
          0.06622296173044925,
          0.08285850825276625,
          0.10783978089695309,
          0.0946597760551249,
          0.08602768046861539,
          0.09581993569131832,
          0.10197066911090745,
          0.08018131827301776,
          0.09447680423018134,
          0.07417620295050324,
          0.08377294787929944,
          0.09141319863841,
          0.08525724658233592,
          0.1479753431188911,
          0.11968664850136243,
          0.112618899917287,
          0.08333979678895526,
          0.09126970196931934,
          0.08953322462291073,
          0.06506687647521636,
          0.06746031746031746,
          0.09900254668930393,
          0.13093541583537593,
          0.062190968025491705,
          0.0659986511224588,
          0.11026349589382324,
          0.08010269576379975,
          0.060667129951355106,
          0.0883984867591425,
          0.07681399196407468,
          0.09041215332506121,
          0.07051230334812425,
          0.08624936102978763,
          0.05791962174940899,
          0.0501533070521244,
          0.06709068526877308,
          0.0829838226482924,
          0.07466747279322855,
          0.07014447277243904,
          0.057845631891433415,
          0.07610071740047827,
          0.08072772551189818,
          0.05702089704383281,
          0.06692307692307692,
          0.08333333333333333,
          0.09322033898305085,
          0.07111111111111111,
          0.07534246575342465,
          0.07258064516129033,
          0.059782608695652176,
          0.07,
          0.07476635514018691,
          0.0967741935483871,
          0.07246376811594203,
          0.07717041800643087,
          0.08783783783783784,
          0.07325581395348837,
          0.08264462809917356,
          0.09302325581395349,
          0.08870967741935484,
          0.0782608695652174,
          0.08333333333333333,
          0.08396946564885496,
          0.10084033613445378,
          0.09302841918294849,
          0.0786745273429559,
          0.052701801200800535,
          0.08736299161831075,
          0.10348837209302326,
          0.08320540374577833,
          0.06943418525631556,
          0.057811753463927376,
          0.06173288226577571,
          0.07555555555555556,
          0.07883665630144503,
          0.07426661715558855,
          0.0412313150323404,
          0.07933678756476684,
          0.07329225619960446,
          0.07612951550849478,
          0.0995265181607296,
          0.07686474837370795,
          0.11712675654468936,
          0.061837395602522584
         ],
         "xaxis": "x",
         "yaxis": "y"
        }
       ],
       "layout": {
        "barmode": "relative",
        "legend": {
         "tracegroupgap": 0
        },
        "margin": {
         "t": 60
        },
        "template": {
         "data": {
          "bar": [
           {
            "error_x": {
             "color": "#2a3f5f"
            },
            "error_y": {
             "color": "#2a3f5f"
            },
            "marker": {
             "line": {
              "color": "#E5ECF6",
              "width": 0.5
             },
             "pattern": {
              "fillmode": "overlay",
              "size": 10,
              "solidity": 0.2
             }
            },
            "type": "bar"
           }
          ],
          "barpolar": [
           {
            "marker": {
             "line": {
              "color": "#E5ECF6",
              "width": 0.5
             },
             "pattern": {
              "fillmode": "overlay",
              "size": 10,
              "solidity": 0.2
             }
            },
            "type": "barpolar"
           }
          ],
          "carpet": [
           {
            "aaxis": {
             "endlinecolor": "#2a3f5f",
             "gridcolor": "white",
             "linecolor": "white",
             "minorgridcolor": "white",
             "startlinecolor": "#2a3f5f"
            },
            "baxis": {
             "endlinecolor": "#2a3f5f",
             "gridcolor": "white",
             "linecolor": "white",
             "minorgridcolor": "white",
             "startlinecolor": "#2a3f5f"
            },
            "type": "carpet"
           }
          ],
          "choropleth": [
           {
            "colorbar": {
             "outlinewidth": 0,
             "ticks": ""
            },
            "type": "choropleth"
           }
          ],
          "contour": [
           {
            "colorbar": {
             "outlinewidth": 0,
             "ticks": ""
            },
            "colorscale": [
             [
              0,
              "#0d0887"
             ],
             [
              0.1111111111111111,
              "#46039f"
             ],
             [
              0.2222222222222222,
              "#7201a8"
             ],
             [
              0.3333333333333333,
              "#9c179e"
             ],
             [
              0.4444444444444444,
              "#bd3786"
             ],
             [
              0.5555555555555556,
              "#d8576b"
             ],
             [
              0.6666666666666666,
              "#ed7953"
             ],
             [
              0.7777777777777778,
              "#fb9f3a"
             ],
             [
              0.8888888888888888,
              "#fdca26"
             ],
             [
              1,
              "#f0f921"
             ]
            ],
            "type": "contour"
           }
          ],
          "contourcarpet": [
           {
            "colorbar": {
             "outlinewidth": 0,
             "ticks": ""
            },
            "type": "contourcarpet"
           }
          ],
          "heatmap": [
           {
            "colorbar": {
             "outlinewidth": 0,
             "ticks": ""
            },
            "colorscale": [
             [
              0,
              "#0d0887"
             ],
             [
              0.1111111111111111,
              "#46039f"
             ],
             [
              0.2222222222222222,
              "#7201a8"
             ],
             [
              0.3333333333333333,
              "#9c179e"
             ],
             [
              0.4444444444444444,
              "#bd3786"
             ],
             [
              0.5555555555555556,
              "#d8576b"
             ],
             [
              0.6666666666666666,
              "#ed7953"
             ],
             [
              0.7777777777777778,
              "#fb9f3a"
             ],
             [
              0.8888888888888888,
              "#fdca26"
             ],
             [
              1,
              "#f0f921"
             ]
            ],
            "type": "heatmap"
           }
          ],
          "heatmapgl": [
           {
            "colorbar": {
             "outlinewidth": 0,
             "ticks": ""
            },
            "colorscale": [
             [
              0,
              "#0d0887"
             ],
             [
              0.1111111111111111,
              "#46039f"
             ],
             [
              0.2222222222222222,
              "#7201a8"
             ],
             [
              0.3333333333333333,
              "#9c179e"
             ],
             [
              0.4444444444444444,
              "#bd3786"
             ],
             [
              0.5555555555555556,
              "#d8576b"
             ],
             [
              0.6666666666666666,
              "#ed7953"
             ],
             [
              0.7777777777777778,
              "#fb9f3a"
             ],
             [
              0.8888888888888888,
              "#fdca26"
             ],
             [
              1,
              "#f0f921"
             ]
            ],
            "type": "heatmapgl"
           }
          ],
          "histogram": [
           {
            "marker": {
             "pattern": {
              "fillmode": "overlay",
              "size": 10,
              "solidity": 0.2
             }
            },
            "type": "histogram"
           }
          ],
          "histogram2d": [
           {
            "colorbar": {
             "outlinewidth": 0,
             "ticks": ""
            },
            "colorscale": [
             [
              0,
              "#0d0887"
             ],
             [
              0.1111111111111111,
              "#46039f"
             ],
             [
              0.2222222222222222,
              "#7201a8"
             ],
             [
              0.3333333333333333,
              "#9c179e"
             ],
             [
              0.4444444444444444,
              "#bd3786"
             ],
             [
              0.5555555555555556,
              "#d8576b"
             ],
             [
              0.6666666666666666,
              "#ed7953"
             ],
             [
              0.7777777777777778,
              "#fb9f3a"
             ],
             [
              0.8888888888888888,
              "#fdca26"
             ],
             [
              1,
              "#f0f921"
             ]
            ],
            "type": "histogram2d"
           }
          ],
          "histogram2dcontour": [
           {
            "colorbar": {
             "outlinewidth": 0,
             "ticks": ""
            },
            "colorscale": [
             [
              0,
              "#0d0887"
             ],
             [
              0.1111111111111111,
              "#46039f"
             ],
             [
              0.2222222222222222,
              "#7201a8"
             ],
             [
              0.3333333333333333,
              "#9c179e"
             ],
             [
              0.4444444444444444,
              "#bd3786"
             ],
             [
              0.5555555555555556,
              "#d8576b"
             ],
             [
              0.6666666666666666,
              "#ed7953"
             ],
             [
              0.7777777777777778,
              "#fb9f3a"
             ],
             [
              0.8888888888888888,
              "#fdca26"
             ],
             [
              1,
              "#f0f921"
             ]
            ],
            "type": "histogram2dcontour"
           }
          ],
          "mesh3d": [
           {
            "colorbar": {
             "outlinewidth": 0,
             "ticks": ""
            },
            "type": "mesh3d"
           }
          ],
          "parcoords": [
           {
            "line": {
             "colorbar": {
              "outlinewidth": 0,
              "ticks": ""
             }
            },
            "type": "parcoords"
           }
          ],
          "pie": [
           {
            "automargin": true,
            "type": "pie"
           }
          ],
          "scatter": [
           {
            "fillpattern": {
             "fillmode": "overlay",
             "size": 10,
             "solidity": 0.2
            },
            "type": "scatter"
           }
          ],
          "scatter3d": [
           {
            "line": {
             "colorbar": {
              "outlinewidth": 0,
              "ticks": ""
             }
            },
            "marker": {
             "colorbar": {
              "outlinewidth": 0,
              "ticks": ""
             }
            },
            "type": "scatter3d"
           }
          ],
          "scattercarpet": [
           {
            "marker": {
             "colorbar": {
              "outlinewidth": 0,
              "ticks": ""
             }
            },
            "type": "scattercarpet"
           }
          ],
          "scattergeo": [
           {
            "marker": {
             "colorbar": {
              "outlinewidth": 0,
              "ticks": ""
             }
            },
            "type": "scattergeo"
           }
          ],
          "scattergl": [
           {
            "marker": {
             "colorbar": {
              "outlinewidth": 0,
              "ticks": ""
             }
            },
            "type": "scattergl"
           }
          ],
          "scattermapbox": [
           {
            "marker": {
             "colorbar": {
              "outlinewidth": 0,
              "ticks": ""
             }
            },
            "type": "scattermapbox"
           }
          ],
          "scatterpolar": [
           {
            "marker": {
             "colorbar": {
              "outlinewidth": 0,
              "ticks": ""
             }
            },
            "type": "scatterpolar"
           }
          ],
          "scatterpolargl": [
           {
            "marker": {
             "colorbar": {
              "outlinewidth": 0,
              "ticks": ""
             }
            },
            "type": "scatterpolargl"
           }
          ],
          "scatterternary": [
           {
            "marker": {
             "colorbar": {
              "outlinewidth": 0,
              "ticks": ""
             }
            },
            "type": "scatterternary"
           }
          ],
          "surface": [
           {
            "colorbar": {
             "outlinewidth": 0,
             "ticks": ""
            },
            "colorscale": [
             [
              0,
              "#0d0887"
             ],
             [
              0.1111111111111111,
              "#46039f"
             ],
             [
              0.2222222222222222,
              "#7201a8"
             ],
             [
              0.3333333333333333,
              "#9c179e"
             ],
             [
              0.4444444444444444,
              "#bd3786"
             ],
             [
              0.5555555555555556,
              "#d8576b"
             ],
             [
              0.6666666666666666,
              "#ed7953"
             ],
             [
              0.7777777777777778,
              "#fb9f3a"
             ],
             [
              0.8888888888888888,
              "#fdca26"
             ],
             [
              1,
              "#f0f921"
             ]
            ],
            "type": "surface"
           }
          ],
          "table": [
           {
            "cells": {
             "fill": {
              "color": "#EBF0F8"
             },
             "line": {
              "color": "white"
             }
            },
            "header": {
             "fill": {
              "color": "#C8D4E3"
             },
             "line": {
              "color": "white"
             }
            },
            "type": "table"
           }
          ]
         },
         "layout": {
          "annotationdefaults": {
           "arrowcolor": "#2a3f5f",
           "arrowhead": 0,
           "arrowwidth": 1
          },
          "autotypenumbers": "strict",
          "coloraxis": {
           "colorbar": {
            "outlinewidth": 0,
            "ticks": ""
           }
          },
          "colorscale": {
           "diverging": [
            [
             0,
             "#8e0152"
            ],
            [
             0.1,
             "#c51b7d"
            ],
            [
             0.2,
             "#de77ae"
            ],
            [
             0.3,
             "#f1b6da"
            ],
            [
             0.4,
             "#fde0ef"
            ],
            [
             0.5,
             "#f7f7f7"
            ],
            [
             0.6,
             "#e6f5d0"
            ],
            [
             0.7,
             "#b8e186"
            ],
            [
             0.8,
             "#7fbc41"
            ],
            [
             0.9,
             "#4d9221"
            ],
            [
             1,
             "#276419"
            ]
           ],
           "sequential": [
            [
             0,
             "#0d0887"
            ],
            [
             0.1111111111111111,
             "#46039f"
            ],
            [
             0.2222222222222222,
             "#7201a8"
            ],
            [
             0.3333333333333333,
             "#9c179e"
            ],
            [
             0.4444444444444444,
             "#bd3786"
            ],
            [
             0.5555555555555556,
             "#d8576b"
            ],
            [
             0.6666666666666666,
             "#ed7953"
            ],
            [
             0.7777777777777778,
             "#fb9f3a"
            ],
            [
             0.8888888888888888,
             "#fdca26"
            ],
            [
             1,
             "#f0f921"
            ]
           ],
           "sequentialminus": [
            [
             0,
             "#0d0887"
            ],
            [
             0.1111111111111111,
             "#46039f"
            ],
            [
             0.2222222222222222,
             "#7201a8"
            ],
            [
             0.3333333333333333,
             "#9c179e"
            ],
            [
             0.4444444444444444,
             "#bd3786"
            ],
            [
             0.5555555555555556,
             "#d8576b"
            ],
            [
             0.6666666666666666,
             "#ed7953"
            ],
            [
             0.7777777777777778,
             "#fb9f3a"
            ],
            [
             0.8888888888888888,
             "#fdca26"
            ],
            [
             1,
             "#f0f921"
            ]
           ]
          },
          "colorway": [
           "#636efa",
           "#EF553B",
           "#00cc96",
           "#ab63fa",
           "#FFA15A",
           "#19d3f3",
           "#FF6692",
           "#B6E880",
           "#FF97FF",
           "#FECB52"
          ],
          "font": {
           "color": "#2a3f5f"
          },
          "geo": {
           "bgcolor": "white",
           "lakecolor": "white",
           "landcolor": "#E5ECF6",
           "showlakes": true,
           "showland": true,
           "subunitcolor": "white"
          },
          "hoverlabel": {
           "align": "left"
          },
          "hovermode": "closest",
          "mapbox": {
           "style": "light"
          },
          "paper_bgcolor": "white",
          "plot_bgcolor": "#E5ECF6",
          "polar": {
           "angularaxis": {
            "gridcolor": "white",
            "linecolor": "white",
            "ticks": ""
           },
           "bgcolor": "#E5ECF6",
           "radialaxis": {
            "gridcolor": "white",
            "linecolor": "white",
            "ticks": ""
           }
          },
          "scene": {
           "xaxis": {
            "backgroundcolor": "#E5ECF6",
            "gridcolor": "white",
            "gridwidth": 2,
            "linecolor": "white",
            "showbackground": true,
            "ticks": "",
            "zerolinecolor": "white"
           },
           "yaxis": {
            "backgroundcolor": "#E5ECF6",
            "gridcolor": "white",
            "gridwidth": 2,
            "linecolor": "white",
            "showbackground": true,
            "ticks": "",
            "zerolinecolor": "white"
           },
           "zaxis": {
            "backgroundcolor": "#E5ECF6",
            "gridcolor": "white",
            "gridwidth": 2,
            "linecolor": "white",
            "showbackground": true,
            "ticks": "",
            "zerolinecolor": "white"
           }
          },
          "shapedefaults": {
           "line": {
            "color": "#2a3f5f"
           }
          },
          "ternary": {
           "aaxis": {
            "gridcolor": "white",
            "linecolor": "white",
            "ticks": ""
           },
           "baxis": {
            "gridcolor": "white",
            "linecolor": "white",
            "ticks": ""
           },
           "bgcolor": "#E5ECF6",
           "caxis": {
            "gridcolor": "white",
            "linecolor": "white",
            "ticks": ""
           }
          },
          "title": {
           "x": 0.05
          },
          "xaxis": {
           "automargin": true,
           "gridcolor": "white",
           "linecolor": "white",
           "ticks": "",
           "title": {
            "standoff": 15
           },
           "zerolinecolor": "white",
           "zerolinewidth": 2
          },
          "yaxis": {
           "automargin": true,
           "gridcolor": "white",
           "linecolor": "white",
           "ticks": "",
           "title": {
            "standoff": 15
           },
           "zerolinecolor": "white",
           "zerolinewidth": 2
          }
         }
        },
        "xaxis": {
         "anchor": "y",
         "domain": [
          0,
          1
         ],
         "title": {
          "text": "Construction"
         }
        },
        "yaxis": {
         "anchor": "x",
         "domain": [
          0,
          1
         ],
         "title": {
          "text": "count"
         }
        }
       }
      }
     },
     "metadata": {},
     "output_type": "display_data"
    }
   ],
   "source": [
    "# plot some distributions to observe that it is coherent to keep the mean\n",
    "import plotly.express as px\n",
    "fig = px.histogram(df_employment_type_percent, x=\"Construction\")\n",
    "fig.show()"
   ]
  },
  {
   "cell_type": "code",
   "execution_count": 191,
   "metadata": {},
   "outputs": [
    {
     "name": "stdout",
     "output_type": "stream",
     "text": [
      "Agriculture\n",
      "0.09009986708858476\n",
      "Industry\n",
      "0.17484548960927426\n",
      "Construction\n",
      "0.07035949998458924\n",
      "Wholesale, retail trade, transport, accomodation and food service\n",
      "0.23597104240588468\n",
      "Information and communication\n",
      "0.017415446429920073\n",
      "Finance, insurance\n",
      "0.016115915837179928\n",
      "Real estate\n",
      "0.00810170877034172\n",
      "Professional, scientific and technical, administrative\n",
      "0.09554233373474198\n",
      "Public administration, defence, education, health, social\n",
      "0.24199782038556797\n",
      "Arts, entertainment, other service\n",
      "0.049550875753915216\n",
      "Total\n",
      "0.9999999999999998\n"
     ]
    }
   ],
   "source": [
    "# Get mean percentage for each category, filled data only\n",
    "total = 0\n",
    "means = {}\n",
    "columns = df_employment_type_percent.drop(columns='nuts3').columns\n",
    "for c in columns:\n",
    "    print(c)\n",
    "    m = df_employment_type_percent[c].mean()\n",
    "    print(m)\n",
    "    means[c] = m\n",
    "    total+=m\n",
    "print('Total')\n",
    "print(total) # close enough to 1"
   ]
  },
  {
   "cell_type": "code",
   "execution_count": 192,
   "metadata": {},
   "outputs": [],
   "source": [
    "# replace missing values\n",
    "# mean percentage of the colum times the total number of employed person for that region \n",
    "for c in columns:\n",
    "    df_employment_type_export[c] = df_employment_type_export[c].fillna(means[c])*df_employment_type_export['TOTAL']"
   ]
  },
  {
   "cell_type": "code",
   "execution_count": 195,
   "metadata": {},
   "outputs": [],
   "source": [
    "# back to percentages\n",
    "df_employment_type_percent = df_employment_type_export.copy().dropna().drop(columns='TOTAL')\n",
    "df_employment_type_percent = df_to_percent(df_employment_type_percent, 'nuts3')"
   ]
  },
  {
   "cell_type": "code",
   "execution_count": 197,
   "metadata": {},
   "outputs": [
    {
     "data": {
      "text/html": [
       "<div>\n",
       "<style scoped>\n",
       "    .dataframe tbody tr th:only-of-type {\n",
       "        vertical-align: middle;\n",
       "    }\n",
       "\n",
       "    .dataframe tbody tr th {\n",
       "        vertical-align: top;\n",
       "    }\n",
       "\n",
       "    .dataframe thead th {\n",
       "        text-align: right;\n",
       "    }\n",
       "</style>\n",
       "<table border=\"1\" class=\"dataframe\">\n",
       "  <thead>\n",
       "    <tr style=\"text-align: right;\">\n",
       "      <th></th>\n",
       "      <th>nuts3</th>\n",
       "      <th>Agriculture</th>\n",
       "      <th>Industry</th>\n",
       "      <th>Construction</th>\n",
       "      <th>Wholesale, retail trade, transport, accomodation and food service</th>\n",
       "      <th>Information and communication</th>\n",
       "      <th>Finance, insurance</th>\n",
       "      <th>Real estate</th>\n",
       "      <th>Professional, scientific and technical, administrative</th>\n",
       "      <th>Public administration, defence, education, health, social</th>\n",
       "      <th>Arts, entertainment, other service</th>\n",
       "    </tr>\n",
       "  </thead>\n",
       "  <tbody>\n",
       "    <tr>\n",
       "      <th>0</th>\n",
       "      <td>AT111</td>\n",
       "      <td>0.131911</td>\n",
       "      <td>0.412222</td>\n",
       "      <td>0.346266</td>\n",
       "      <td>0.038909</td>\n",
       "      <td>0.002872</td>\n",
       "      <td>0.002657</td>\n",
       "      <td>0.001336</td>\n",
       "      <td>0.015754</td>\n",
       "      <td>0.039903</td>\n",
       "      <td>0.008170</td>\n",
       "    </tr>\n",
       "    <tr>\n",
       "      <th>1</th>\n",
       "      <td>AT112</td>\n",
       "      <td>0.221498</td>\n",
       "      <td>0.448031</td>\n",
       "      <td>0.297009</td>\n",
       "      <td>0.011879</td>\n",
       "      <td>0.000877</td>\n",
       "      <td>0.000811</td>\n",
       "      <td>0.000408</td>\n",
       "      <td>0.004810</td>\n",
       "      <td>0.012182</td>\n",
       "      <td>0.002494</td>\n",
       "    </tr>\n",
       "    <tr>\n",
       "      <th>2</th>\n",
       "      <td>AT113</td>\n",
       "      <td>0.175094</td>\n",
       "      <td>0.461611</td>\n",
       "      <td>0.310394</td>\n",
       "      <td>0.018780</td>\n",
       "      <td>0.001386</td>\n",
       "      <td>0.001283</td>\n",
       "      <td>0.000645</td>\n",
       "      <td>0.007604</td>\n",
       "      <td>0.019260</td>\n",
       "      <td>0.003944</td>\n",
       "    </tr>\n",
       "    <tr>\n",
       "      <th>3</th>\n",
       "      <td>AT121</td>\n",
       "      <td>0.181760</td>\n",
       "      <td>0.606596</td>\n",
       "      <td>0.197089</td>\n",
       "      <td>0.005167</td>\n",
       "      <td>0.000381</td>\n",
       "      <td>0.000353</td>\n",
       "      <td>0.000177</td>\n",
       "      <td>0.002092</td>\n",
       "      <td>0.005299</td>\n",
       "      <td>0.001085</td>\n",
       "    </tr>\n",
       "    <tr>\n",
       "      <th>4</th>\n",
       "      <td>AT122</td>\n",
       "      <td>0.120230</td>\n",
       "      <td>0.623520</td>\n",
       "      <td>0.237665</td>\n",
       "      <td>0.006598</td>\n",
       "      <td>0.000487</td>\n",
       "      <td>0.000451</td>\n",
       "      <td>0.000227</td>\n",
       "      <td>0.002671</td>\n",
       "      <td>0.006766</td>\n",
       "      <td>0.001385</td>\n",
       "    </tr>\n",
       "  </tbody>\n",
       "</table>\n",
       "</div>"
      ],
      "text/plain": [
       "   nuts3  Agriculture  Industry  Construction  \\\n",
       "0  AT111     0.131911  0.412222      0.346266   \n",
       "1  AT112     0.221498  0.448031      0.297009   \n",
       "2  AT113     0.175094  0.461611      0.310394   \n",
       "3  AT121     0.181760  0.606596      0.197089   \n",
       "4  AT122     0.120230  0.623520      0.237665   \n",
       "\n",
       "   Wholesale, retail trade, transport, accomodation and food service  \\\n",
       "0                                           0.038909                   \n",
       "1                                           0.011879                   \n",
       "2                                           0.018780                   \n",
       "3                                           0.005167                   \n",
       "4                                           0.006598                   \n",
       "\n",
       "   Information and communication  Finance, insurance  Real estate  \\\n",
       "0                       0.002872            0.002657     0.001336   \n",
       "1                       0.000877            0.000811     0.000408   \n",
       "2                       0.001386            0.001283     0.000645   \n",
       "3                       0.000381            0.000353     0.000177   \n",
       "4                       0.000487            0.000451     0.000227   \n",
       "\n",
       "   Professional, scientific and technical, administrative  \\\n",
       "0                                           0.015754        \n",
       "1                                           0.004810        \n",
       "2                                           0.007604        \n",
       "3                                           0.002092        \n",
       "4                                           0.002671        \n",
       "\n",
       "   Public administration, defence, education, health, social  \\\n",
       "0                                           0.039903           \n",
       "1                                           0.012182           \n",
       "2                                           0.019260           \n",
       "3                                           0.005299           \n",
       "4                                           0.006766           \n",
       "\n",
       "   Arts, entertainment, other service  \n",
       "0                            0.008170  \n",
       "1                            0.002494  \n",
       "2                            0.003944  \n",
       "3                            0.001085  \n",
       "4                            0.001385  "
      ]
     },
     "execution_count": 197,
     "metadata": {},
     "output_type": "execute_result"
    }
   ],
   "source": [
    "# final result\n",
    "df_employment_type_percent.head()"
   ]
  },
  {
   "cell_type": "code",
   "execution_count": 199,
   "metadata": {},
   "outputs": [],
   "source": [
    "# export clean table to csv\n",
    "df_employment_type_percent.to_csv(data_folder+f'employment/employment_type_nuts{resolution}_{year}_clean.csv', index=False)"
   ]
  },
  {
   "cell_type": "markdown",
   "metadata": {},
   "source": [
    "## Motorization rate dataset\n",
    "| Unit | Resolution | Categories | \n",
    "|---|---|---|\n",
    "|Probability | NUTS-2 | 6 |\n",
    "\n",
    "Counts converted to number per inhabitants, i.e. probability for an inhabitant to own a particular type of vehicle.  \n",
    "Inhabitants are over 20 years old.  \n",
    "Note that the values are not percentages, but independant probabilities.  \n",
    "For example a person can have a car and a moto, so the sum of all vehicle types per inhabitants is not 1."
   ]
  },
  {
   "cell_type": "code",
   "execution_count": 81,
   "metadata": {},
   "outputs": [
    {
     "data": {
      "text/html": [
       "<div>\n",
       "<style scoped>\n",
       "    .dataframe tbody tr th:only-of-type {\n",
       "        vertical-align: middle;\n",
       "    }\n",
       "\n",
       "    .dataframe tbody tr th {\n",
       "        vertical-align: top;\n",
       "    }\n",
       "\n",
       "    .dataframe thead th {\n",
       "        text-align: right;\n",
       "    }\n",
       "</style>\n",
       "<table border=\"1\" class=\"dataframe\">\n",
       "  <thead>\n",
       "    <tr style=\"text-align: right;\">\n",
       "      <th></th>\n",
       "      <th>vehicle</th>\n",
       "      <th>geo</th>\n",
       "      <th>TIME_PERIOD</th>\n",
       "      <th>OBS_VALUE</th>\n",
       "    </tr>\n",
       "  </thead>\n",
       "  <tbody>\n",
       "    <tr>\n",
       "      <th>0</th>\n",
       "      <td>BUS_TOT</td>\n",
       "      <td>AT11</td>\n",
       "      <td>2020</td>\n",
       "      <td>312</td>\n",
       "    </tr>\n",
       "    <tr>\n",
       "      <th>1</th>\n",
       "      <td>BUS_TOT</td>\n",
       "      <td>AT11</td>\n",
       "      <td>2021</td>\n",
       "      <td>298</td>\n",
       "    </tr>\n",
       "    <tr>\n",
       "      <th>2</th>\n",
       "      <td>BUS_TOT</td>\n",
       "      <td>AT12</td>\n",
       "      <td>2020</td>\n",
       "      <td>1060</td>\n",
       "    </tr>\n",
       "    <tr>\n",
       "      <th>3</th>\n",
       "      <td>BUS_TOT</td>\n",
       "      <td>AT12</td>\n",
       "      <td>2021</td>\n",
       "      <td>1062</td>\n",
       "    </tr>\n",
       "    <tr>\n",
       "      <th>4</th>\n",
       "      <td>BUS_TOT</td>\n",
       "      <td>AT13</td>\n",
       "      <td>2020</td>\n",
       "      <td>3999</td>\n",
       "    </tr>\n",
       "  </tbody>\n",
       "</table>\n",
       "</div>"
      ],
      "text/plain": [
       "   vehicle   geo  TIME_PERIOD  OBS_VALUE\n",
       "0  BUS_TOT  AT11         2020        312\n",
       "1  BUS_TOT  AT11         2021        298\n",
       "2  BUS_TOT  AT12         2020       1060\n",
       "3  BUS_TOT  AT12         2021       1062\n",
       "4  BUS_TOT  AT13         2020       3999"
      ]
     },
     "execution_count": 81,
     "metadata": {},
     "output_type": "execute_result"
    }
   ],
   "source": [
    "# load dataset\n",
    "df_motor = pd.read_csv(motorization_path)\n",
    "# drop useless columns\n",
    "df_motor.drop(columns=['STRUCTURE', 'STRUCTURE_ID', 'freq', 'unit', 'OBS_FLAG'], inplace=True)\n",
    "df_motor.head()"
   ]
  },
  {
   "cell_type": "code",
   "execution_count": 82,
   "metadata": {},
   "outputs": [],
   "source": [
    "df_motor, resolution = filter_precision(df_motor)"
   ]
  },
  {
   "cell_type": "code",
   "execution_count": 83,
   "metadata": {},
   "outputs": [
    {
     "data": {
      "text/plain": [
       "TIME_PERIOD\n",
       "2020    2476\n",
       "2021    2127\n",
       "Name: OBS_VALUE, dtype: int64"
      ]
     },
     "execution_count": 83,
     "metadata": {},
     "output_type": "execute_result"
    }
   ],
   "source": [
    "compare_years(df_motor)"
   ]
  },
  {
   "cell_type": "code",
   "execution_count": 84,
   "metadata": {},
   "outputs": [],
   "source": [
    "year=2020\n",
    "df_motor = filter_year(df_motor, year)\n",
    "df_motor = rename_cols(df_motor, 'count', resolution)"
   ]
  },
  {
   "cell_type": "code",
   "execution_count": 85,
   "metadata": {},
   "outputs": [
    {
     "data": {
      "text/html": [
       "<div>\n",
       "<style scoped>\n",
       "    .dataframe tbody tr th:only-of-type {\n",
       "        vertical-align: middle;\n",
       "    }\n",
       "\n",
       "    .dataframe tbody tr th {\n",
       "        vertical-align: top;\n",
       "    }\n",
       "\n",
       "    .dataframe thead th {\n",
       "        text-align: right;\n",
       "    }\n",
       "</style>\n",
       "<table border=\"1\" class=\"dataframe\">\n",
       "  <thead>\n",
       "    <tr style=\"text-align: right;\">\n",
       "      <th></th>\n",
       "      <th>vehicle</th>\n",
       "      <th>nuts2</th>\n",
       "      <th>count</th>\n",
       "    </tr>\n",
       "  </thead>\n",
       "  <tbody>\n",
       "    <tr>\n",
       "      <th>258</th>\n",
       "      <td>CAR</td>\n",
       "      <td>AT11</td>\n",
       "      <td>201548</td>\n",
       "    </tr>\n",
       "    <tr>\n",
       "      <th>259</th>\n",
       "      <td>CAR</td>\n",
       "      <td>AT12</td>\n",
       "      <td>1113849</td>\n",
       "    </tr>\n",
       "    <tr>\n",
       "      <th>260</th>\n",
       "      <td>CAR</td>\n",
       "      <td>AT13</td>\n",
       "      <td>718819</td>\n",
       "    </tr>\n",
       "    <tr>\n",
       "      <th>261</th>\n",
       "      <td>CAR</td>\n",
       "      <td>AT21</td>\n",
       "      <td>367676</td>\n",
       "    </tr>\n",
       "    <tr>\n",
       "      <th>262</th>\n",
       "      <td>CAR</td>\n",
       "      <td>AT22</td>\n",
       "      <td>775945</td>\n",
       "    </tr>\n",
       "  </tbody>\n",
       "</table>\n",
       "</div>"
      ],
      "text/plain": [
       "    vehicle nuts2    count\n",
       "258     CAR  AT11   201548\n",
       "259     CAR  AT12  1113849\n",
       "260     CAR  AT13   718819\n",
       "261     CAR  AT21   367676\n",
       "262     CAR  AT22   775945"
      ]
     },
     "execution_count": 85,
     "metadata": {},
     "output_type": "execute_result"
    }
   ],
   "source": [
    "df_motor[df_motor.duplicated(subset=['vehicle', 'nuts2'], keep=False)].head()"
   ]
  },
  {
   "cell_type": "code",
   "execution_count": 86,
   "metadata": {},
   "outputs": [],
   "source": [
    "# cars are sometimes informed a second time with a vey small value\n",
    "# the largest is kept\n",
    "cars = df_motor[df_motor['vehicle']=='CAR'].groupby('nuts2').max().reset_index()\n",
    "df_motor = df_motor[df_motor['vehicle']!='CAR']\n",
    "df_motor = pd.concat([df_motor, cars])"
   ]
  },
  {
   "cell_type": "code",
   "execution_count": 94,
   "metadata": {},
   "outputs": [],
   "source": [
    "# pivot\n",
    "df_motor_pivot = df_motor.pivot(index='nuts2', columns='vehicle', values='count' )\n",
    "df_motor_pivot.reset_index(inplace=True)\n",
    "df_motor_pivot = df_motor_pivot.rename_axis(None, axis=1)"
   ]
  },
  {
   "cell_type": "code",
   "execution_count": 95,
   "metadata": {},
   "outputs": [
    {
     "data": {
      "text/html": [
       "<div>\n",
       "<style scoped>\n",
       "    .dataframe tbody tr th:only-of-type {\n",
       "        vertical-align: middle;\n",
       "    }\n",
       "\n",
       "    .dataframe tbody tr th {\n",
       "        vertical-align: top;\n",
       "    }\n",
       "\n",
       "    .dataframe thead th {\n",
       "        text-align: right;\n",
       "    }\n",
       "</style>\n",
       "<table border=\"1\" class=\"dataframe\">\n",
       "  <thead>\n",
       "    <tr style=\"text-align: right;\">\n",
       "      <th></th>\n",
       "      <th>nuts2</th>\n",
       "      <th>BUS_TOT</th>\n",
       "      <th>CAR</th>\n",
       "      <th>LOR</th>\n",
       "      <th>MOTO</th>\n",
       "      <th>SPE</th>\n",
       "      <th>TOT_X_TM</th>\n",
       "      <th>TRC</th>\n",
       "      <th>TRL_STRL</th>\n",
       "      <th>UTL</th>\n",
       "    </tr>\n",
       "  </thead>\n",
       "  <tbody>\n",
       "    <tr>\n",
       "      <th>0</th>\n",
       "      <td>AT11</td>\n",
       "      <td>312.0</td>\n",
       "      <td>201548.0</td>\n",
       "      <td>21289.0</td>\n",
       "      <td>21086.0</td>\n",
       "      <td>34373.0</td>\n",
       "      <td>258669.0</td>\n",
       "      <td>1147.0</td>\n",
       "      <td>39249.0</td>\n",
       "      <td>56809.0</td>\n",
       "    </tr>\n",
       "    <tr>\n",
       "      <th>1</th>\n",
       "      <td>AT12</td>\n",
       "      <td>1060.0</td>\n",
       "      <td>1113849.0</td>\n",
       "      <td>111912.0</td>\n",
       "      <td>122197.0</td>\n",
       "      <td>164955.0</td>\n",
       "      <td>1395822.0</td>\n",
       "      <td>4046.0</td>\n",
       "      <td>210647.0</td>\n",
       "      <td>280913.0</td>\n",
       "    </tr>\n",
       "    <tr>\n",
       "      <th>2</th>\n",
       "      <td>AT13</td>\n",
       "      <td>3999.0</td>\n",
       "      <td>718819.0</td>\n",
       "      <td>73553.0</td>\n",
       "      <td>77348.0</td>\n",
       "      <td>9082.0</td>\n",
       "      <td>806368.0</td>\n",
       "      <td>915.0</td>\n",
       "      <td>36825.0</td>\n",
       "      <td>83550.0</td>\n",
       "    </tr>\n",
       "    <tr>\n",
       "      <th>3</th>\n",
       "      <td>AT21</td>\n",
       "      <td>389.0</td>\n",
       "      <td>367676.0</td>\n",
       "      <td>33709.0</td>\n",
       "      <td>45360.0</td>\n",
       "      <td>41721.0</td>\n",
       "      <td>444617.0</td>\n",
       "      <td>1122.0</td>\n",
       "      <td>60890.0</td>\n",
       "      <td>76552.0</td>\n",
       "    </tr>\n",
       "    <tr>\n",
       "      <th>4</th>\n",
       "      <td>AT22</td>\n",
       "      <td>1098.0</td>\n",
       "      <td>775945.0</td>\n",
       "      <td>75119.0</td>\n",
       "      <td>90892.0</td>\n",
       "      <td>104733.0</td>\n",
       "      <td>959772.0</td>\n",
       "      <td>2877.0</td>\n",
       "      <td>130035.0</td>\n",
       "      <td>182729.0</td>\n",
       "    </tr>\n",
       "  </tbody>\n",
       "</table>\n",
       "</div>"
      ],
      "text/plain": [
       "  nuts2  BUS_TOT        CAR       LOR      MOTO       SPE   TOT_X_TM     TRC  \\\n",
       "0  AT11    312.0   201548.0   21289.0   21086.0   34373.0   258669.0  1147.0   \n",
       "1  AT12   1060.0  1113849.0  111912.0  122197.0  164955.0  1395822.0  4046.0   \n",
       "2  AT13   3999.0   718819.0   73553.0   77348.0    9082.0   806368.0   915.0   \n",
       "3  AT21    389.0   367676.0   33709.0   45360.0   41721.0   444617.0  1122.0   \n",
       "4  AT22   1098.0   775945.0   75119.0   90892.0  104733.0   959772.0  2877.0   \n",
       "\n",
       "   TRL_STRL       UTL  \n",
       "0   39249.0   56809.0  \n",
       "1  210647.0  280913.0  \n",
       "2   36825.0   83550.0  \n",
       "3   60890.0   76552.0  \n",
       "4  130035.0  182729.0  "
      ]
     },
     "execution_count": 95,
     "metadata": {},
     "output_type": "execute_result"
    }
   ],
   "source": [
    "df_motor_pivot.head()"
   ]
  },
  {
   "cell_type": "markdown",
   "metadata": {},
   "source": [
    "Get the number of inhabitants per nuts2 to compute the vehicle/inhabitant"
   ]
  },
  {
   "cell_type": "code",
   "execution_count": 96,
   "metadata": {},
   "outputs": [
    {
     "data": {
      "text/html": [
       "<div>\n",
       "<style scoped>\n",
       "    .dataframe tbody tr th:only-of-type {\n",
       "        vertical-align: middle;\n",
       "    }\n",
       "\n",
       "    .dataframe tbody tr th {\n",
       "        vertical-align: top;\n",
       "    }\n",
       "\n",
       "    .dataframe thead th {\n",
       "        text-align: right;\n",
       "    }\n",
       "</style>\n",
       "<table border=\"1\" class=\"dataframe\">\n",
       "  <thead>\n",
       "    <tr style=\"text-align: right;\">\n",
       "      <th></th>\n",
       "      <th>nuts2</th>\n",
       "      <th>over_20</th>\n",
       "    </tr>\n",
       "  </thead>\n",
       "  <tbody>\n",
       "    <tr>\n",
       "      <th>0</th>\n",
       "      <td>AL01</td>\n",
       "      <td>595106</td>\n",
       "    </tr>\n",
       "    <tr>\n",
       "      <th>1</th>\n",
       "      <td>AL02</td>\n",
       "      <td>912101</td>\n",
       "    </tr>\n",
       "    <tr>\n",
       "      <th>2</th>\n",
       "      <td>AL03</td>\n",
       "      <td>647100</td>\n",
       "    </tr>\n",
       "    <tr>\n",
       "      <th>3</th>\n",
       "      <td>AT11</td>\n",
       "      <td>244814</td>\n",
       "    </tr>\n",
       "    <tr>\n",
       "      <th>4</th>\n",
       "      <td>AT12</td>\n",
       "      <td>1367530</td>\n",
       "    </tr>\n",
       "  </tbody>\n",
       "</table>\n",
       "</div>"
      ],
      "text/plain": [
       "  nuts2  over_20\n",
       "0  AL01   595106\n",
       "1  AL02   912101\n",
       "2  AL03   647100\n",
       "3  AT11   244814\n",
       "4  AT12  1367530"
      ]
     },
     "execution_count": 96,
     "metadata": {},
     "output_type": "execute_result"
    }
   ],
   "source": [
    "df_inhabitants = df_age_export.copy()\n",
    "df_inhabitants['nuts2'] = df_inhabitants['nuts3'].apply(lambda s: s[:-1])\n",
    "df_inhabitants['over_20'] = df_inhabitants['age_between_20_64'] + df_inhabitants['age_over_64']\n",
    "df_inhabitants = df_inhabitants[['nuts2', 'over_20']]\n",
    "df_inhabitants = df_inhabitants.groupby('nuts2').sum().reset_index()\n",
    "df_inhabitants.head()"
   ]
  },
  {
   "cell_type": "code",
   "execution_count": 97,
   "metadata": {},
   "outputs": [],
   "source": [
    "df_motor_pivot = df_motor_pivot.merge(df_inhabitants, on=\"nuts2\")\n",
    "df_motor_pivot = df_motor_pivot.set_index('nuts2')\n",
    "df_motor_export = df_motor_pivot.div(df_motor_pivot['over_20'], axis=0)\n",
    "df_motor_export.reset_index(inplace=True)"
   ]
  },
  {
   "cell_type": "markdown",
   "metadata": {},
   "source": [
    "Similarly as employment types, the missing values are imputed by the means  \n",
    "Few missing values here"
   ]
  },
  {
   "cell_type": "code",
   "execution_count": 98,
   "metadata": {},
   "outputs": [
    {
     "name": "stdout",
     "output_type": "stream",
     "text": [
      "253 253 253 240 242 232 245 240 236 232 253 "
     ]
    }
   ],
   "source": [
    "for c in df_motor_export.columns:\n",
    "    print(len(df_motor_export[c].dropna()), end = ' ')"
   ]
  },
  {
   "cell_type": "code",
   "execution_count": 110,
   "metadata": {},
   "outputs": [],
   "source": [
    "df_motor_export_dropna = df_motor_export.copy().dropna()"
   ]
  },
  {
   "cell_type": "code",
   "execution_count": 112,
   "metadata": {},
   "outputs": [
    {
     "name": "stdout",
     "output_type": "stream",
     "text": [
      "BUS_TOT\n",
      "0.003367424688423838\n",
      "CAR\n",
      "0.646616602172732\n",
      "LOR\n",
      "0.08771689963792716\n",
      "MOTO\n",
      "0.06667389928758831\n",
      "SPE\n",
      "0.01042398935399071\n",
      "TOT_X_TM\n",
      "0.7538501136393772\n",
      "TRC\n",
      "0.0057251977863044074\n",
      "TRL_STRL\n",
      "0.07617594103670804\n",
      "UTL\n",
      "0.10386608677822223\n",
      "over_20\n",
      "1.0\n"
     ]
    }
   ],
   "source": [
    "# Get mean proba for each category, filled data only\n",
    "means = {}\n",
    "columns = df_motor_export.drop(columns='nuts2').columns\n",
    "for c in columns:\n",
    "    print(c)\n",
    "    m = df_motor_export_dropna[c].mean()\n",
    "    print(m)\n",
    "    means[c] = m"
   ]
  },
  {
   "cell_type": "code",
   "execution_count": 113,
   "metadata": {},
   "outputs": [],
   "source": [
    "# replace missing values\n",
    "for c in columns:\n",
    "    df_motor_export[c] = df_motor_export[c].fillna(means[c])"
   ]
  },
  {
   "cell_type": "code",
   "execution_count": 114,
   "metadata": {},
   "outputs": [],
   "source": [
    "# regroup lorries and road tractors \n",
    "# regroupment has to be done after replacing missing values, otherwise it can group NaN with a valid number\n",
    "df_motor_export['vehicle_truck'] = df_motor_export['LOR'] + df_motor_export['TRC']\n",
    "# drop total and trailers\n",
    "df_motor_export.drop(columns=['TOT_X_TM', 'TRL_STRL', 'LOR', 'TRC', 'over_20'], inplace=True)\n",
    "# rename columns\n",
    "df_motor_export = df_motor_export.rename(columns={\n",
    "    'CAR': 'vehicle_car',\n",
    "    'MOTO': 'vehicle_moto',\n",
    "    'SPE': 'vehicle_special',\n",
    "    'BUS_TOT': 'vehicle_bus',\n",
    "    'UTL': 'vehicle_utilities',\n",
    "})"
   ]
  },
  {
   "cell_type": "code",
   "execution_count": 115,
   "metadata": {},
   "outputs": [
    {
     "data": {
      "text/html": [
       "<div>\n",
       "<style scoped>\n",
       "    .dataframe tbody tr th:only-of-type {\n",
       "        vertical-align: middle;\n",
       "    }\n",
       "\n",
       "    .dataframe tbody tr th {\n",
       "        vertical-align: top;\n",
       "    }\n",
       "\n",
       "    .dataframe thead th {\n",
       "        text-align: right;\n",
       "    }\n",
       "</style>\n",
       "<table border=\"1\" class=\"dataframe\">\n",
       "  <thead>\n",
       "    <tr style=\"text-align: right;\">\n",
       "      <th></th>\n",
       "      <th>nuts2</th>\n",
       "      <th>vehicle_bus</th>\n",
       "      <th>vehicle_car</th>\n",
       "      <th>vehicle_moto</th>\n",
       "      <th>vehicle_special</th>\n",
       "      <th>vehicle_utilities</th>\n",
       "      <th>vehicle_truck</th>\n",
       "    </tr>\n",
       "  </thead>\n",
       "  <tbody>\n",
       "    <tr>\n",
       "      <th>0</th>\n",
       "      <td>AT11</td>\n",
       "      <td>0.001274</td>\n",
       "      <td>0.823270</td>\n",
       "      <td>0.086131</td>\n",
       "      <td>0.140405</td>\n",
       "      <td>0.232050</td>\n",
       "      <td>0.091645</td>\n",
       "    </tr>\n",
       "    <tr>\n",
       "      <th>1</th>\n",
       "      <td>AT12</td>\n",
       "      <td>0.000775</td>\n",
       "      <td>0.814497</td>\n",
       "      <td>0.089356</td>\n",
       "      <td>0.120623</td>\n",
       "      <td>0.205416</td>\n",
       "      <td>0.084794</td>\n",
       "    </tr>\n",
       "    <tr>\n",
       "      <th>2</th>\n",
       "      <td>AT13</td>\n",
       "      <td>0.002563</td>\n",
       "      <td>0.460772</td>\n",
       "      <td>0.049581</td>\n",
       "      <td>0.005822</td>\n",
       "      <td>0.053557</td>\n",
       "      <td>0.047735</td>\n",
       "    </tr>\n",
       "    <tr>\n",
       "      <th>3</th>\n",
       "      <td>AT21</td>\n",
       "      <td>0.000840</td>\n",
       "      <td>0.793959</td>\n",
       "      <td>0.097950</td>\n",
       "      <td>0.090092</td>\n",
       "      <td>0.165306</td>\n",
       "      <td>0.075214</td>\n",
       "    </tr>\n",
       "    <tr>\n",
       "      <th>4</th>\n",
       "      <td>AT22</td>\n",
       "      <td>0.001069</td>\n",
       "      <td>0.755740</td>\n",
       "      <td>0.088525</td>\n",
       "      <td>0.102006</td>\n",
       "      <td>0.177971</td>\n",
       "      <td>0.075965</td>\n",
       "    </tr>\n",
       "  </tbody>\n",
       "</table>\n",
       "</div>"
      ],
      "text/plain": [
       "  nuts2  vehicle_bus  vehicle_car  vehicle_moto  vehicle_special  \\\n",
       "0  AT11     0.001274     0.823270      0.086131         0.140405   \n",
       "1  AT12     0.000775     0.814497      0.089356         0.120623   \n",
       "2  AT13     0.002563     0.460772      0.049581         0.005822   \n",
       "3  AT21     0.000840     0.793959      0.097950         0.090092   \n",
       "4  AT22     0.001069     0.755740      0.088525         0.102006   \n",
       "\n",
       "   vehicle_utilities  vehicle_truck  \n",
       "0           0.232050       0.091645  \n",
       "1           0.205416       0.084794  \n",
       "2           0.053557       0.047735  \n",
       "3           0.165306       0.075214  \n",
       "4           0.177971       0.075965  "
      ]
     },
     "execution_count": 115,
     "metadata": {},
     "output_type": "execute_result"
    }
   ],
   "source": [
    "# final dataframe\n",
    "df_motor_export.head()"
   ]
  },
  {
   "cell_type": "code",
   "execution_count": 117,
   "metadata": {},
   "outputs": [],
   "source": [
    "# export clean table to csv\n",
    "df_motor_export.to_csv(data_folder+f'motorization/motorization_proba_nuts{resolution}_{year}_clean.csv', index=False)"
   ]
  },
  {
   "cell_type": "markdown",
   "metadata": {},
   "source": [
    "## Income dataset\n",
    "| Unit | Resolution |\n",
    "|---|---|\n",
    "|€ per inhabitant | NUTS-2 | \n",
    "\n",
    "household income in € per inhabitant for a year"
   ]
  },
  {
   "cell_type": "code",
   "execution_count": 209,
   "metadata": {},
   "outputs": [
    {
     "data": {
      "text/html": [
       "<div>\n",
       "<style scoped>\n",
       "    .dataframe tbody tr th:only-of-type {\n",
       "        vertical-align: middle;\n",
       "    }\n",
       "\n",
       "    .dataframe tbody tr th {\n",
       "        vertical-align: top;\n",
       "    }\n",
       "\n",
       "    .dataframe thead th {\n",
       "        text-align: right;\n",
       "    }\n",
       "</style>\n",
       "<table border=\"1\" class=\"dataframe\">\n",
       "  <thead>\n",
       "    <tr style=\"text-align: right;\">\n",
       "      <th></th>\n",
       "      <th>geo</th>\n",
       "      <th>TIME_PERIOD</th>\n",
       "      <th>OBS_VALUE</th>\n",
       "    </tr>\n",
       "  </thead>\n",
       "  <tbody>\n",
       "    <tr>\n",
       "      <th>0</th>\n",
       "      <td>AT</td>\n",
       "      <td>2020</td>\n",
       "      <td>26900</td>\n",
       "    </tr>\n",
       "    <tr>\n",
       "      <th>1</th>\n",
       "      <td>AT1</td>\n",
       "      <td>2020</td>\n",
       "      <td>26600</td>\n",
       "    </tr>\n",
       "    <tr>\n",
       "      <th>2</th>\n",
       "      <td>AT11</td>\n",
       "      <td>2020</td>\n",
       "      <td>26400</td>\n",
       "    </tr>\n",
       "    <tr>\n",
       "      <th>3</th>\n",
       "      <td>AT12</td>\n",
       "      <td>2020</td>\n",
       "      <td>28100</td>\n",
       "    </tr>\n",
       "    <tr>\n",
       "      <th>4</th>\n",
       "      <td>AT13</td>\n",
       "      <td>2020</td>\n",
       "      <td>25400</td>\n",
       "    </tr>\n",
       "  </tbody>\n",
       "</table>\n",
       "</div>"
      ],
      "text/plain": [
       "    geo  TIME_PERIOD  OBS_VALUE\n",
       "0    AT         2020      26900\n",
       "1   AT1         2020      26600\n",
       "2  AT11         2020      26400\n",
       "3  AT12         2020      28100\n",
       "4  AT13         2020      25400"
      ]
     },
     "execution_count": 209,
     "metadata": {},
     "output_type": "execute_result"
    }
   ],
   "source": [
    "# load dataset\n",
    "df_income = pd.read_csv(income_path)\n",
    "# drop useless columns\n",
    "df_income.drop(columns=['STRUCTURE', 'STRUCTURE_ID', 'freq', 'unit', 'direct', 'na_item', 'OBS_FLAG'], inplace=True)\n",
    "df_income.head()"
   ]
  },
  {
   "cell_type": "code",
   "execution_count": 210,
   "metadata": {},
   "outputs": [],
   "source": [
    "df_income, resolution = filter_precision(df_income)\n",
    "year=2020\n",
    "df_income = filter_year(df_income, year)\n",
    "df_income = rename_cols(df_income, 'household_income', resolution)"
   ]
  },
  {
   "cell_type": "code",
   "execution_count": 224,
   "metadata": {},
   "outputs": [],
   "source": [
    "# some values are duplicated, or different for the same region\n",
    "df_income = df_income.groupby('nuts2').mean().reset_index()"
   ]
  },
  {
   "cell_type": "code",
   "execution_count": 227,
   "metadata": {},
   "outputs": [
    {
     "data": {
      "text/html": [
       "<div>\n",
       "<style scoped>\n",
       "    .dataframe tbody tr th:only-of-type {\n",
       "        vertical-align: middle;\n",
       "    }\n",
       "\n",
       "    .dataframe tbody tr th {\n",
       "        vertical-align: top;\n",
       "    }\n",
       "\n",
       "    .dataframe thead th {\n",
       "        text-align: right;\n",
       "    }\n",
       "</style>\n",
       "<table border=\"1\" class=\"dataframe\">\n",
       "  <thead>\n",
       "    <tr style=\"text-align: right;\">\n",
       "      <th></th>\n",
       "      <th>nuts2</th>\n",
       "      <th>household_income</th>\n",
       "    </tr>\n",
       "  </thead>\n",
       "  <tbody>\n",
       "    <tr>\n",
       "      <th>0</th>\n",
       "      <td>AT11</td>\n",
       "      <td>25400.0</td>\n",
       "    </tr>\n",
       "    <tr>\n",
       "      <th>1</th>\n",
       "      <td>AT12</td>\n",
       "      <td>26350.0</td>\n",
       "    </tr>\n",
       "    <tr>\n",
       "      <th>2</th>\n",
       "      <td>AT13</td>\n",
       "      <td>23700.0</td>\n",
       "    </tr>\n",
       "    <tr>\n",
       "      <th>3</th>\n",
       "      <td>AT21</td>\n",
       "      <td>23950.0</td>\n",
       "    </tr>\n",
       "    <tr>\n",
       "      <th>4</th>\n",
       "      <td>AT22</td>\n",
       "      <td>24750.0</td>\n",
       "    </tr>\n",
       "  </tbody>\n",
       "</table>\n",
       "</div>"
      ],
      "text/plain": [
       "  nuts2  household_income\n",
       "0  AT11           25400.0\n",
       "1  AT12           26350.0\n",
       "2  AT13           23700.0\n",
       "3  AT21           23950.0\n",
       "4  AT22           24750.0"
      ]
     },
     "execution_count": 227,
     "metadata": {},
     "output_type": "execute_result"
    }
   ],
   "source": [
    "df_income.head()"
   ]
  },
  {
   "cell_type": "code",
   "execution_count": 226,
   "metadata": {},
   "outputs": [],
   "source": [
    "# export clean table to csv\n",
    "df_income.to_csv(data_folder+f'income/households_income_nuts{resolution}_{year}_clean.csv', index=False)"
   ]
  },
  {
   "cell_type": "markdown",
   "metadata": {},
   "source": [
    "## Test loading"
   ]
  },
  {
   "cell_type": "code",
   "execution_count": null,
   "metadata": {},
   "outputs": [],
   "source": [
    "from loader import EurostatLoader\n",
    "\n",
    "l = EurostatLoader('2021', ['FRJ13', 'FRJ12'])\n",
    "l.get_all_data()"
   ]
  }
 ],
 "metadata": {
  "kernelspec": {
   "display_name": "codagon",
   "language": "python",
   "name": "python3"
  },
  "language_info": {
   "codemirror_mode": {
    "name": "ipython",
    "version": 3
   },
   "file_extension": ".py",
   "mimetype": "text/x-python",
   "name": "python",
   "nbconvert_exporter": "python",
   "pygments_lexer": "ipython3",
   "version": "3.10.13"
  }
 },
 "nbformat": 4,
 "nbformat_minor": 2
}
