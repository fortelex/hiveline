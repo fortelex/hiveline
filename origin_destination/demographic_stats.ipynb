{
 "cells": [
  {
   "cell_type": "code",
   "execution_count": 11,
   "metadata": {},
   "outputs": [
    {
     "name": "stdout",
     "output_type": "stream",
     "text": [
      "The autoreload extension is already loaded. To reload it, use:\n",
      "  %reload_ext autoreload\n"
     ]
    }
   ],
   "source": [
    "%load_ext autoreload\n",
    "%autoreload 2\n",
    "from od.place import Place\n",
    "from od.stats import Stats"
   ]
  },
  {
   "cell_type": "code",
   "execution_count": 12,
   "metadata": {},
   "outputs": [
    {
     "name": "stdout",
     "output_type": "stream",
     "text": [
      "Data found in db\n"
     ]
    }
   ],
   "source": [
    "place_name = 'Dublin Region, Ireland'\n",
    "city = Place(place_name)\n",
    "stats = Stats(city)"
   ]
  },
  {
   "cell_type": "code",
   "execution_count": 13,
   "metadata": {},
   "outputs": [
    {
     "data": {
      "text/plain": [
       "<Axes: >"
      ]
     },
     "execution_count": 13,
     "metadata": {},
     "output_type": "execute_result"
    },
    {
     "data": {
      "image/png": "[encoded data removed]",
      "text/plain": [
       "<Figure size 640x480 with 1 Axes>"
      ]
     },
     "metadata": {},
     "output_type": "display_data"
    }
   ],
   "source": [
    "city.shape.plot()"
   ]
  },
  {
   "cell_type": "markdown",
   "metadata": {},
   "source": [
    "## Region"
   ]
  },
  {
   "cell_type": "code",
   "execution_count": 14,
   "metadata": {},
   "outputs": [
    {
     "name": "stdout",
     "output_type": "stream",
     "text": [
      "Data found in db\n",
      "Data found in db\n",
      "Data found in db\n",
      "Data found in db\n",
      "Data found in db\n"
     ]
    }
   ],
   "source": [
    "stats.load_all()"
   ]
  },
  {
   "cell_type": "code",
   "execution_count": 5,
   "metadata": {},
   "outputs": [
    {
     "data": {
      "text/html": [
       "<div>\n",
       "<style scoped>\n",
       "    .dataframe tbody tr th:only-of-type {\n",
       "        vertical-align: middle;\n",
       "    }\n",
       "\n",
       "    .dataframe tbody tr th {\n",
       "        vertical-align: top;\n",
       "    }\n",
       "\n",
       "    .dataframe thead th {\n",
       "        text-align: right;\n",
       "    }\n",
       "</style>\n",
       "<table border=\"1\" class=\"dataframe\">\n",
       "  <thead>\n",
       "    <tr style=\"text-align: right;\">\n",
       "      <th></th>\n",
       "      <th>nuts3</th>\n",
       "      <th>age_under_20</th>\n",
       "      <th>age_between_20_64</th>\n",
       "      <th>age_over_64</th>\n",
       "      <th>vehicle_bus</th>\n",
       "      <th>vehicle_car</th>\n",
       "      <th>vehicle_moto</th>\n",
       "      <th>vehicle_special</th>\n",
       "      <th>vehicle_utilities</th>\n",
       "      <th>vehicle_truck</th>\n",
       "      <th>household_income</th>\n",
       "      <th>employment_rate_between_20_64</th>\n",
       "      <th>employment_rate_over_64</th>\n",
       "      <th>employment_type_agricultural</th>\n",
       "      <th>employment_type_industrial</th>\n",
       "      <th>employment_type_commercial</th>\n",
       "      <th>employment_type_office</th>\n",
       "      <th>employment_type_social</th>\n",
       "    </tr>\n",
       "  </thead>\n",
       "  <tbody>\n",
       "    <tr>\n",
       "      <th>0</th>\n",
       "      <td>IE061</td>\n",
       "      <td>0.243190</td>\n",
       "      <td>0.623037</td>\n",
       "      <td>0.133774</td>\n",
       "      <td>0.003118</td>\n",
       "      <td>0.580659</td>\n",
       "      <td>0.011858</td>\n",
       "      <td>0.01243</td>\n",
       "      <td>0.100958</td>\n",
       "      <td>0.088528</td>\n",
       "      <td>26550.0</td>\n",
       "      <td>79.2</td>\n",
       "      <td>12.5</td>\n",
       "      <td>0.002862</td>\n",
       "      <td>0.130291</td>\n",
       "      <td>0.273919</td>\n",
       "      <td>0.340388</td>\n",
       "      <td>0.252539</td>\n",
       "    </tr>\n",
       "    <tr>\n",
       "      <th>1</th>\n",
       "      <td>IE062</td>\n",
       "      <td>0.285552</td>\n",
       "      <td>0.582086</td>\n",
       "      <td>0.132362</td>\n",
       "      <td>0.003118</td>\n",
       "      <td>0.580659</td>\n",
       "      <td>0.011858</td>\n",
       "      <td>0.01243</td>\n",
       "      <td>0.100958</td>\n",
       "      <td>0.088528</td>\n",
       "      <td>26550.0</td>\n",
       "      <td>79.2</td>\n",
       "      <td>12.5</td>\n",
       "      <td>0.035444</td>\n",
       "      <td>0.218183</td>\n",
       "      <td>0.329353</td>\n",
       "      <td>0.119974</td>\n",
       "      <td>0.297045</td>\n",
       "    </tr>\n",
       "  </tbody>\n",
       "</table>\n",
       "</div>"
      ],
      "text/plain": [
       "   nuts3  age_under_20  age_between_20_64  age_over_64  vehicle_bus  \\\n",
       "0  IE061      0.243190           0.623037     0.133774     0.003118   \n",
       "1  IE062      0.285552           0.582086     0.132362     0.003118   \n",
       "\n",
       "   vehicle_car  vehicle_moto  vehicle_special  vehicle_utilities  \\\n",
       "0     0.580659      0.011858          0.01243           0.100958   \n",
       "1     0.580659      0.011858          0.01243           0.100958   \n",
       "\n",
       "   vehicle_truck  household_income  employment_rate_between_20_64  \\\n",
       "0       0.088528           26550.0                           79.2   \n",
       "1       0.088528           26550.0                           79.2   \n",
       "\n",
       "   employment_rate_over_64  employment_type_agricultural  \\\n",
       "0                     12.5                      0.002862   \n",
       "1                     12.5                      0.035444   \n",
       "\n",
       "   employment_type_industrial  employment_type_commercial  \\\n",
       "0                    0.130291                    0.273919   \n",
       "1                    0.218183                    0.329353   \n",
       "\n",
       "   employment_type_office  employment_type_social  \n",
       "0                0.340388                0.252539  \n",
       "1                0.119974                0.297045  "
      ]
     },
     "execution_count": 5,
     "metadata": {},
     "output_type": "execute_result"
    }
   ],
   "source": [
    "stats.demographic"
   ]
  },
  {
   "cell_type": "code",
   "execution_count": 7,
   "metadata": {},
   "outputs": [],
   "source": [
    "stats.export_to_mongo()"
   ]
  },
  {
   "cell_type": "markdown",
   "metadata": {},
   "source": [
    "## City"
   ]
  },
  {
   "cell_type": "code",
   "execution_count": 15,
   "metadata": {},
   "outputs": [
    {
     "name": "stdout",
     "output_type": "stream",
     "text": [
      "Data found in db\n",
      "Data found in db\n",
      "Data found in db\n"
     ]
    }
   ],
   "source": [
    "city.load_all()"
   ]
  },
  {
   "cell_type": "code",
   "execution_count": 10,
   "metadata": {},
   "outputs": [
    {
     "data": {
      "text/plain": [
       "1419224.0"
      ]
     },
     "execution_count": 10,
     "metadata": {},
     "output_type": "execute_result"
    }
   ],
   "source": [
    "# total population\n",
    "city.data['population'].sum()"
   ]
  },
  {
   "cell_type": "code",
   "execution_count": 9,
   "metadata": {},
   "outputs": [
    {
     "name": "stderr",
     "output_type": "stream",
     "text": [
      "/home/nicod/.local/lib/python3.10/site-packages/geopandas/geodataframe.py:1442: UserWarning: Geometry column does not contain geometry.\n",
      "  warnings.warn(\"Geometry column does not contain geometry.\")\n"
     ]
    }
   ],
   "source": [
    "city.export_place_to_mongo()\n",
    "city.export_tiles_to_mongo()"
   ]
  },
  {
   "cell_type": "markdown",
   "metadata": {},
   "source": [
    "## test"
   ]
  },
  {
   "cell_type": "code",
   "execution_count": null,
   "metadata": {},
   "outputs": [],
   "source": [
    "place_name = 'Berlin, Germany'\n",
    "city = Place(place_name)\n",
    "stats = Stats(city)\n",
    "city.load_all()\n",
    "city.export_tiles_to_mongo()"
   ]
  }
 ],
 "metadata": {
  "kernelspec": {
   "display_name": "codagon",
   "language": "python",
   "name": "python3"
  },
  "language_info": {
   "codemirror_mode": {
    "name": "ipython",
    "version": 3
   },
   "file_extension": ".py",
   "mimetype": "text/x-python",
   "name": "python",
   "nbconvert_exporter": "python",
   "pygments_lexer": "ipython3",
   "version": "3.10.13"
  }
 },
 "nbformat": 4,
 "nbformat_minor": 2
}
