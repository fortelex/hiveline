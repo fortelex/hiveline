{
 "cells": [
  {
   "cell_type": "code",
   "execution_count": 1,
   "metadata": {},
   "outputs": [],
   "source": [
    "%load_ext autoreload\n",
    "%autoreload 2\n",
    "from od.place import Place\n",
    "from od.stats import Stats"
   ]
  },
  {
   "cell_type": "code",
   "execution_count": 68,
   "metadata": {},
   "outputs": [
    {
     "name": "stdout",
     "output_type": "stream",
     "text": [
      "Data found in db\n"
     ]
    }
   ],
   "source": [
    "place_name = 'Paris, France'\n",
    "city = Place(place_name)\n",
    "stats = Stats(city)"
   ]
  },
  {
   "cell_type": "code",
   "execution_count": 69,
   "metadata": {},
   "outputs": [
    {
     "data": {
      "text/plain": [
       "<Axes: >"
      ]
     },
     "execution_count": 69,
     "metadata": {},
     "output_type": "execute_result"
    },
    {
     "data": {
      "image/png": "[encoded data removed]",
      "text/plain": [
       "<Figure size 640x480 with 1 Axes>"
      ]
     },
     "metadata": {},
     "output_type": "display_data"
    }
   ],
   "source": [
    "city.shape.plot()"
   ]
  },
  {
   "cell_type": "markdown",
   "metadata": {},
   "source": [
    "## Region"
   ]
  },
  {
   "cell_type": "code",
   "execution_count": 70,
   "metadata": {},
   "outputs": [
    {
     "name": "stdout",
     "output_type": "stream",
     "text": [
      "Data found in db\n",
      "Data found in db\n",
      "Data found in db\n",
      "Data found in db\n",
      "Data found in db\n"
     ]
    }
   ],
   "source": [
    "stats.load_all()"
   ]
  },
  {
   "cell_type": "code",
   "execution_count": 36,
   "metadata": {},
   "outputs": [
    {
     "data": {
      "text/html": [
       "<div>\n",
       "<style scoped>\n",
       "    .dataframe tbody tr th:only-of-type {\n",
       "        vertical-align: middle;\n",
       "    }\n",
       "\n",
       "    .dataframe tbody tr th {\n",
       "        vertical-align: top;\n",
       "    }\n",
       "\n",
       "    .dataframe thead th {\n",
       "        text-align: right;\n",
       "    }\n",
       "</style>\n",
       "<table border=\"1\" class=\"dataframe\">\n",
       "  <thead>\n",
       "    <tr style=\"text-align: right;\">\n",
       "      <th></th>\n",
       "      <th>nuts3</th>\n",
       "      <th>age_under_20</th>\n",
       "      <th>age_between_20_64</th>\n",
       "      <th>age_over_64</th>\n",
       "      <th>vehicle_bus</th>\n",
       "      <th>vehicle_car</th>\n",
       "      <th>vehicle_moto</th>\n",
       "      <th>vehicle_special</th>\n",
       "      <th>vehicle_utilities</th>\n",
       "      <th>vehicle_truck</th>\n",
       "      <th>household_income</th>\n",
       "      <th>employment_rate_between_20_64</th>\n",
       "      <th>employment_rate_over_64</th>\n",
       "      <th>employment_type_agricultural</th>\n",
       "      <th>employment_type_industrial</th>\n",
       "      <th>employment_type_commercial</th>\n",
       "      <th>employment_type_office</th>\n",
       "      <th>employment_type_social</th>\n",
       "    </tr>\n",
       "  </thead>\n",
       "  <tbody>\n",
       "    <tr>\n",
       "      <th>0</th>\n",
       "      <td>DE714</td>\n",
       "      <td>0.199477</td>\n",
       "      <td>0.598742</td>\n",
       "      <td>0.201782</td>\n",
       "      <td>0.000953</td>\n",
       "      <td>0.728097</td>\n",
       "      <td>0.060333</td>\n",
       "      <td>0.004224</td>\n",
       "      <td>0.050629</td>\n",
       "      <td>0.046405</td>\n",
       "      <td>29150.0</td>\n",
       "      <td>78.5</td>\n",
       "      <td>8.7</td>\n",
       "      <td>0.013209</td>\n",
       "      <td>0.962403</td>\n",
       "      <td>0.010773</td>\n",
       "      <td>0.004736</td>\n",
       "      <td>0.008879</td>\n",
       "    </tr>\n",
       "    <tr>\n",
       "      <th>1</th>\n",
       "      <td>DEB35</td>\n",
       "      <td>0.168279</td>\n",
       "      <td>0.651952</td>\n",
       "      <td>0.179770</td>\n",
       "      <td>0.001678</td>\n",
       "      <td>0.743648</td>\n",
       "      <td>0.071117</td>\n",
       "      <td>0.004154</td>\n",
       "      <td>0.049114</td>\n",
       "      <td>0.044960</td>\n",
       "      <td>26300.0</td>\n",
       "      <td>78.4</td>\n",
       "      <td>7.8</td>\n",
       "      <td>0.022787</td>\n",
       "      <td>0.938375</td>\n",
       "      <td>0.017156</td>\n",
       "      <td>0.007542</td>\n",
       "      <td>0.014140</td>\n",
       "    </tr>\n",
       "    <tr>\n",
       "      <th>2</th>\n",
       "      <td>DE71D</td>\n",
       "      <td>0.183086</td>\n",
       "      <td>0.579162</td>\n",
       "      <td>0.237752</td>\n",
       "      <td>0.000953</td>\n",
       "      <td>0.728097</td>\n",
       "      <td>0.060333</td>\n",
       "      <td>0.004224</td>\n",
       "      <td>0.050629</td>\n",
       "      <td>0.046405</td>\n",
       "      <td>29150.0</td>\n",
       "      <td>78.5</td>\n",
       "      <td>8.7</td>\n",
       "      <td>0.084986</td>\n",
       "      <td>0.876846</td>\n",
       "      <td>0.016861</td>\n",
       "      <td>0.007412</td>\n",
       "      <td>0.013896</td>\n",
       "    </tr>\n",
       "  </tbody>\n",
       "</table>\n",
       "</div>"
      ],
      "text/plain": [
       "   nuts3  age_under_20  age_between_20_64  age_over_64  vehicle_bus  \\\n",
       "0  DE714      0.199477           0.598742     0.201782     0.000953   \n",
       "1  DEB35      0.168279           0.651952     0.179770     0.001678   \n",
       "2  DE71D      0.183086           0.579162     0.237752     0.000953   \n",
       "\n",
       "   vehicle_car  vehicle_moto  vehicle_special  vehicle_utilities  \\\n",
       "0     0.728097      0.060333         0.004224           0.050629   \n",
       "1     0.743648      0.071117         0.004154           0.049114   \n",
       "2     0.728097      0.060333         0.004224           0.050629   \n",
       "\n",
       "   vehicle_truck  household_income  employment_rate_between_20_64  \\\n",
       "0       0.046405           29150.0                           78.5   \n",
       "1       0.044960           26300.0                           78.4   \n",
       "2       0.046405           29150.0                           78.5   \n",
       "\n",
       "   employment_rate_over_64  employment_type_agricultural  \\\n",
       "0                      8.7                      0.013209   \n",
       "1                      7.8                      0.022787   \n",
       "2                      8.7                      0.084986   \n",
       "\n",
       "   employment_type_industrial  employment_type_commercial  \\\n",
       "0                    0.962403                    0.010773   \n",
       "1                    0.938375                    0.017156   \n",
       "2                    0.876846                    0.016861   \n",
       "\n",
       "   employment_type_office  employment_type_social  \n",
       "0                0.004736                0.008879  \n",
       "1                0.007542                0.014140  \n",
       "2                0.007412                0.013896  "
      ]
     },
     "execution_count": 36,
     "metadata": {},
     "output_type": "execute_result"
    }
   ],
   "source": [
    "stats.demographic"
   ]
  },
  {
   "cell_type": "code",
   "execution_count": 47,
   "metadata": {},
   "outputs": [],
   "source": [
    "stats.export_to_mongo()"
   ]
  },
  {
   "cell_type": "markdown",
   "metadata": {},
   "source": [
    "## City"
   ]
  },
  {
   "cell_type": "code",
   "execution_count": 71,
   "metadata": {},
   "outputs": [
    {
     "name": "stdout",
     "output_type": "stream",
     "text": [
      "Data found in db\n",
      "Data found in db\n",
      "Data found in db\n"
     ]
    }
   ],
   "source": [
    "city.load_all()"
   ]
  },
  {
   "cell_type": "code",
   "execution_count": 39,
   "metadata": {},
   "outputs": [
    {
     "data": {
      "text/plain": [
       "307996.0"
      ]
     },
     "execution_count": 39,
     "metadata": {},
     "output_type": "execute_result"
    }
   ],
   "source": [
    "# total population\n",
    "city.data['population'].sum()"
   ]
  },
  {
   "cell_type": "code",
   "execution_count": 8,
   "metadata": {},
   "outputs": [
    {
     "name": "stderr",
     "output_type": "stream",
     "text": [
      "/home/nicod/.local/lib/python3.10/site-packages/geopandas/geodataframe.py:1442: UserWarning: Geometry column does not contain geometry.\n",
      "  warnings.warn(\"Geometry column does not contain geometry.\")\n"
     ]
    }
   ],
   "source": [
    "city.export_place_to_mongo()\n",
    "city.export_tiles_to_mongo()"
   ]
  },
  {
   "cell_type": "markdown",
   "metadata": {},
   "source": [
    "## test"
   ]
  },
  {
   "cell_type": "code",
   "execution_count": 3,
   "metadata": {},
   "outputs": [
    {
     "name": "stderr",
     "output_type": "stream",
     "text": [
      "/home/nicod/.local/lib/python3.10/site-packages/geopandas/geodataframe.py:1442: UserWarning: Geometry column does not contain geometry.\n",
      "  warnings.warn(\"Geometry column does not contain geometry.\")\n"
     ]
    }
   ],
   "source": [
    "place_name = 'Berlin, Germany'\n",
    "city = Place(place_name)\n",
    "city.load_all()\n",
    "city.export_tiles_to_mongo()"
   ]
  }
 ],
 "metadata": {
  "kernelspec": {
   "display_name": "codagon",
   "language": "python",
   "name": "python3"
  },
  "language_info": {
   "codemirror_mode": {
    "name": "ipython",
    "version": 3
   },
   "file_extension": ".py",
   "mimetype": "text/x-python",
   "name": "python",
   "nbconvert_exporter": "python",
   "pygments_lexer": "ipython3",
   "version": "3.10.13"
  }
 },
 "nbformat": 4,
 "nbformat_minor": 2
}
