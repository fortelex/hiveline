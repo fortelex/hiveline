{
 "cells": [
  {
   "cell_type": "code",
   "execution_count": 1,
   "metadata": {},
   "outputs": [],
   "source": [
    "%load_ext autoreload\n",
    "%autoreload 2\n",
    "from od.place import Place\n",
    "from od.stats import Stats"
   ]
  },
  {
   "cell_type": "code",
   "execution_count": 2,
   "metadata": {},
   "outputs": [
    {
     "name": "stdout",
     "output_type": "stream",
     "text": [
      "Data found in db\n"
     ]
    }
   ],
   "source": [
    "place_name = 'Paris, France'\n",
    "city = Place(place_name)\n",
    "stats = Stats(city)"
   ]
  },
  {
   "cell_type": "markdown",
   "metadata": {},
   "source": [
    "## Region"
   ]
  },
  {
   "cell_type": "code",
   "execution_count": 7,
   "metadata": {},
   "outputs": [
    {
     "name": "stdout",
     "output_type": "stream",
     "text": [
      "Data found in db\n",
      "Data found in db\n",
      "Data found in db\n",
      "Data found in db\n",
      "Data found in db\n"
     ]
    }
   ],
   "source": [
    "stats.load_all()"
   ]
  },
  {
   "cell_type": "code",
   "execution_count": 8,
   "metadata": {},
   "outputs": [
    {
     "data": {
      "text/html": [
       "<div>\n",
       "<style scoped>\n",
       "    .dataframe tbody tr th:only-of-type {\n",
       "        vertical-align: middle;\n",
       "    }\n",
       "\n",
       "    .dataframe tbody tr th {\n",
       "        vertical-align: top;\n",
       "    }\n",
       "\n",
       "    .dataframe thead th {\n",
       "        text-align: right;\n",
       "    }\n",
       "</style>\n",
       "<table border=\"1\" class=\"dataframe\">\n",
       "  <thead>\n",
       "    <tr style=\"text-align: right;\">\n",
       "      <th></th>\n",
       "      <th>nuts3</th>\n",
       "      <th>household_income</th>\n",
       "      <th>age_under_20</th>\n",
       "      <th>age_between_20_64</th>\n",
       "      <th>age_over_64</th>\n",
       "      <th>vehicle_bus</th>\n",
       "      <th>vehicle_car</th>\n",
       "      <th>vehicle_moto</th>\n",
       "      <th>vehicle_special</th>\n",
       "      <th>vehicle_utilities</th>\n",
       "      <th>vehicle_truck</th>\n",
       "      <th>income</th>\n",
       "      <th>employment_rate_between_20_64</th>\n",
       "      <th>employment_rate_over_64</th>\n",
       "      <th>employment_type_agricultural</th>\n",
       "      <th>employment_type_industrial</th>\n",
       "      <th>employment_type_commercial</th>\n",
       "      <th>employment_type_office</th>\n",
       "      <th>employment_type_social</th>\n",
       "    </tr>\n",
       "  </thead>\n",
       "  <tbody>\n",
       "    <tr>\n",
       "      <th>0</th>\n",
       "      <td>FR101</td>\n",
       "      <td>28050.0</td>\n",
       "      <td>0.185915</td>\n",
       "      <td>0.636334</td>\n",
       "      <td>0.177752</td>\n",
       "      <td>0.002224</td>\n",
       "      <td>0.578336</td>\n",
       "      <td>0.066674</td>\n",
       "      <td>0.003104</td>\n",
       "      <td>0.067141</td>\n",
       "      <td>0.064036</td>\n",
       "      <td>28050.0</td>\n",
       "      <td>76.5</td>\n",
       "      <td>6.4</td>\n",
       "      <td>0.000507</td>\n",
       "      <td>0.044579</td>\n",
       "      <td>0.336697</td>\n",
       "      <td>0.394256</td>\n",
       "      <td>0.223961</td>\n",
       "    </tr>\n",
       "    <tr>\n",
       "      <th>1</th>\n",
       "      <td>FR105</td>\n",
       "      <td>28050.0</td>\n",
       "      <td>0.243203</td>\n",
       "      <td>0.599046</td>\n",
       "      <td>0.157750</td>\n",
       "      <td>0.002224</td>\n",
       "      <td>0.578336</td>\n",
       "      <td>0.066674</td>\n",
       "      <td>0.003104</td>\n",
       "      <td>0.067141</td>\n",
       "      <td>0.064036</td>\n",
       "      <td>28050.0</td>\n",
       "      <td>76.5</td>\n",
       "      <td>6.4</td>\n",
       "      <td>0.000298</td>\n",
       "      <td>0.113683</td>\n",
       "      <td>0.245071</td>\n",
       "      <td>0.478716</td>\n",
       "      <td>0.162232</td>\n",
       "    </tr>\n",
       "  </tbody>\n",
       "</table>\n",
       "</div>"
      ],
      "text/plain": [
       "   nuts3  household_income  age_under_20  age_between_20_64  age_over_64  \\\n",
       "0  FR101           28050.0      0.185915           0.636334     0.177752   \n",
       "1  FR105           28050.0      0.243203           0.599046     0.157750   \n",
       "\n",
       "   vehicle_bus  vehicle_car  vehicle_moto  vehicle_special  vehicle_utilities  \\\n",
       "0     0.002224     0.578336      0.066674         0.003104           0.067141   \n",
       "1     0.002224     0.578336      0.066674         0.003104           0.067141   \n",
       "\n",
       "   vehicle_truck   income  employment_rate_between_20_64  \\\n",
       "0       0.064036  28050.0                           76.5   \n",
       "1       0.064036  28050.0                           76.5   \n",
       "\n",
       "   employment_rate_over_64  employment_type_agricultural  \\\n",
       "0                      6.4                      0.000507   \n",
       "1                      6.4                      0.000298   \n",
       "\n",
       "   employment_type_industrial  employment_type_commercial  \\\n",
       "0                    0.044579                    0.336697   \n",
       "1                    0.113683                    0.245071   \n",
       "\n",
       "   employment_type_office  employment_type_social  \n",
       "0                0.394256                0.223961  \n",
       "1                0.478716                0.162232  "
      ]
     },
     "execution_count": 8,
     "metadata": {},
     "output_type": "execute_result"
    }
   ],
   "source": [
    "stats.demographic"
   ]
  },
  {
   "cell_type": "code",
   "execution_count": 5,
   "metadata": {},
   "outputs": [],
   "source": [
    "stats.export_to_mongo()"
   ]
  },
  {
   "cell_type": "markdown",
   "metadata": {},
   "source": [
    "## City"
   ]
  },
  {
   "cell_type": "code",
   "execution_count": 10,
   "metadata": {},
   "outputs": [
    {
     "name": "stdout",
     "output_type": "stream",
     "text": [
      "Data found in db\n",
      "Data found in db\n"
     ]
    }
   ],
   "source": [
    "city.load_population()\n",
    "city.load_zoning_data()"
   ]
  },
  {
   "cell_type": "code",
   "execution_count": 12,
   "metadata": {},
   "outputs": [
    {
     "data": {
      "text/html": [
       "<div>\n",
       "<style scoped>\n",
       "    .dataframe tbody tr th:only-of-type {\n",
       "        vertical-align: middle;\n",
       "    }\n",
       "\n",
       "    .dataframe tbody tr th {\n",
       "        vertical-align: top;\n",
       "    }\n",
       "\n",
       "    .dataframe thead th {\n",
       "        text-align: right;\n",
       "    }\n",
       "</style>\n",
       "<table border=\"1\" class=\"dataframe\">\n",
       "  <thead>\n",
       "    <tr style=\"text-align: right;\">\n",
       "      <th></th>\n",
       "      <th>h3</th>\n",
       "      <th>geometry</th>\n",
       "      <th>nuts3</th>\n",
       "      <th>population</th>\n",
       "      <th>education</th>\n",
       "      <th>leisure</th>\n",
       "      <th>empty</th>\n",
       "      <th>work_agricultural</th>\n",
       "      <th>work_industrial</th>\n",
       "      <th>work_commercial</th>\n",
       "      <th>work_office</th>\n",
       "      <th>work_social</th>\n",
       "      <th>work</th>\n",
       "    </tr>\n",
       "  </thead>\n",
       "  <tbody>\n",
       "    <tr>\n",
       "      <th>0</th>\n",
       "      <td>613047304089239551</td>\n",
       "      <td>POLYGON ((2.34931 48.88809, 2.34299 48.88694, ...</td>\n",
       "      <td>FR101</td>\n",
       "      <td>25519.0</td>\n",
       "      <td>34738.724515</td>\n",
       "      <td>75610.598157</td>\n",
       "      <td>9666.296328</td>\n",
       "      <td>0.0</td>\n",
       "      <td>3031.735382</td>\n",
       "      <td>47723.967943</td>\n",
       "      <td>2400.0</td>\n",
       "      <td>71336.895069</td>\n",
       "      <td>124492.598394</td>\n",
       "    </tr>\n",
       "    <tr>\n",
       "      <th>1</th>\n",
       "      <td>613047304080850943</td>\n",
       "      <td>POLYGON ((2.35298 48.88022, 2.34666 48.87908, ...</td>\n",
       "      <td>FR101</td>\n",
       "      <td>26653.0</td>\n",
       "      <td>29581.162230</td>\n",
       "      <td>61686.749308</td>\n",
       "      <td>10241.949897</td>\n",
       "      <td>0.0</td>\n",
       "      <td>377.179572</td>\n",
       "      <td>60636.391957</td>\n",
       "      <td>8800.0</td>\n",
       "      <td>32147.784730</td>\n",
       "      <td>101961.356259</td>\n",
       "    </tr>\n",
       "  </tbody>\n",
       "</table>\n",
       "</div>"
      ],
      "text/plain": [
       "                   h3                                           geometry  \\\n",
       "0  613047304089239551  POLYGON ((2.34931 48.88809, 2.34299 48.88694, ...   \n",
       "1  613047304080850943  POLYGON ((2.35298 48.88022, 2.34666 48.87908, ...   \n",
       "\n",
       "   nuts3  population     education       leisure         empty  \\\n",
       "0  FR101     25519.0  34738.724515  75610.598157   9666.296328   \n",
       "1  FR101     26653.0  29581.162230  61686.749308  10241.949897   \n",
       "\n",
       "   work_agricultural  work_industrial  work_commercial  work_office  \\\n",
       "0                0.0      3031.735382     47723.967943       2400.0   \n",
       "1                0.0       377.179572     60636.391957       8800.0   \n",
       "\n",
       "    work_social           work  \n",
       "0  71336.895069  124492.598394  \n",
       "1  32147.784730  101961.356259  "
      ]
     },
     "execution_count": 12,
     "metadata": {},
     "output_type": "execute_result"
    }
   ],
   "source": [
    "city.data.head(2)"
   ]
  },
  {
   "cell_type": "code",
   "execution_count": 20,
   "metadata": {},
   "outputs": [],
   "source": [
    "city.export_place_to_mongo()\n",
    "city.export_tiles_to_mongo()"
   ]
  }
 ],
 "metadata": {
  "kernelspec": {
   "display_name": "codagon",
   "language": "python",
   "name": "python3"
  },
  "language_info": {
   "codemirror_mode": {
    "name": "ipython",
    "version": 3
   },
   "file_extension": ".py",
   "mimetype": "text/x-python",
   "name": "python",
   "nbconvert_exporter": "python",
   "pygments_lexer": "ipython3",
   "version": "3.10.13"
  }
 },
 "nbformat": 4,
 "nbformat_minor": 2
}
