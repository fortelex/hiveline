{
 "cells": [
  {
   "cell_type": "markdown",
   "metadata": {
    "collapsed": false,
    "pycharm": {
     "name": "#%% md\n"
    }
   },
   "source": [
    "# Basic Usage\n",
    "Here you can learn how to use this package as a python library. You can create simulations, run routing, congestion simulations and other analytics from here.\n",
    "\n",
    "## Prerequisites\n",
    "\n",
    "Things you need to define before you can run all the simulation:\n",
    "- Place name of the format (for example 'Eindhoven, Netherlands')\n",
    "- The url to the Geofabrik OSM repository for the smallest region covering the place\n",
    "- The url to the Transitfeed place\n",
    "- The date and time of the pivot date (specifies the time where the graph will be built. Note, that the corresponding OSM and GTFS data must be available at this time)\n",
    "- The amount of RAM that can be used to build the graph and run routing (in GB, requirements vary by graph size)\n",
    "- The amount of threads to use for routing\n",
    "- The amount of virtual commuters to simulate\n",
    "- Whether to use delay simulation (you need to setup other data for this)"
   ]
  },
  {
   "cell_type": "code",
   "execution_count": 1,
   "metadata": {
    "collapsed": false,
    "pycharm": {
     "is_executing": true,
     "name": "#%%\n"
    }
   },
   "outputs": [],
   "source": [
    "from datetime import datetime, timezone\n",
    "\n",
    "place_name = 'Eindhoven, Netherlands'\n",
    "geofabrik_url = 'https://download.geofabrik.de/europe/netherlands/noord-brabant.html'\n",
    "transitfeed_url = 'https://transitfeeds.com/l/194-the-netherlands'\n",
    "# analysis_year = 2022\n",
    "# commute_depart_datetime = datetime(2022, 10, 4, 8, 0, 0, 0, tzinfo=astimezone(timezone(\"Europe/Paris\")))\n",
    "\n",
    "pivot_date = datetime(2022, 10, 4, 8, 0, 0, 0, tzinfo=None)  #TODO change \n",
    "ram_gb = 12\n",
    "num_threads = 6\n",
    "num_virtual_commuters = 2000\n",
    "use_delay_simulation = False"
   ]
  },
  {
   "cell_type": "markdown",
   "metadata": {
    "collapsed": false
   },
   "source": [
    "## Load a Place\n",
    "\n",
    "First, we will load the place. Currently, a bit inconvinient. we plan to streamline this process in the future. First, we load the demographics data."
   ]
  },
  {
   "cell_type": "code",
   "execution_count": 2,
   "metadata": {},
   "outputs": [],
   "source": [
    "import sys\n",
    "sys.path.append('..')\n",
    "import hiveline as hl\n"
   ]
  },
  {
   "cell_type": "code",
   "execution_count": 3,
   "metadata": {
    "collapsed": false
   },
   "outputs": [
    {
     "name": "stdout",
     "output_type": "stream",
     "text": [
      "Data found in db\n",
      "Data found in db\n",
      "Data found in db\n",
      "Data found in db\n"
     ]
    }
   ],
   "source": [
    "db = hl.get_database()\n",
    "year = pivot_date.year\n",
    "place = hl.Place(place_name, year)\n",
    "place.load_all()"
   ]
  },
  {
   "cell_type": "markdown",
   "metadata": {
    "collapsed": false
   },
   "source": [
    "Add the place to the database. This will create a new place (or update it) as well as the corresponding tile data."
   ]
  },
  {
   "cell_type": "code",
   "execution_count": 4,
   "metadata": {
    "collapsed": false
   },
   "outputs": [
    {
     "name": "stderr",
     "output_type": "stream",
     "text": [
      "/root/webdev/projects/hiveline/examples/../hiveline/od/place.py:397: UserWarning: Geometry column does not contain geometry.\n",
      "  id_df['geometry'] = id_df['geometry'].astype(str)\n"
     ]
    }
   ],
   "source": [
    "place.export_place_to_mongo()\n",
    "place.export_tiles_to_mongo()"
   ]
  },
  {
   "cell_type": "markdown",
   "metadata": {
    "collapsed": false
   },
   "source": [
    "Now we can get the place_id and index the OSM and GTFS data for routing. Note that this may scrape the data from the corresponding websites."
   ]
  },
  {
   "cell_type": "code",
   "execution_count": 5,
   "metadata": {
    "collapsed": false
   },
   "outputs": [],
   "source": [
    "place_id = hl.get_place_id(db, place_name)\n",
    "\n",
    "place_resources = hl.create_place_resources(geofabrik_url, transitfeed_url, place_name, place_id, db, skip_existing=True)"
   ]
  },
  {
   "cell_type": "markdown",
   "metadata": {
    "collapsed": false
   },
   "source": [
    "## Build OTP Graph\n",
    "\n",
    "Next, we will prepare OpenTripPlanner. This will download any necessary files and build the graph for the pivot date. This may take a while. \n",
    "\n",
    "Note, that once you built the graph for one place and time, it will be stored in the cache and you can reuse it later. The build graph function will skip building in this case.\n",
    "\n",
    "Also note, that OTP's output is printed to the jupyter console. If the building process fails, it can help to look into the jupyter console output to find the reason."
   ]
  },
  {
   "cell_type": "code",
   "execution_count": 6,
   "metadata": {
    "collapsed": false
   },
   "outputs": [
    {
     "name": "stdout",
     "output_type": "stream",
     "text": [
      "{'date': datetime.datetime(2023, 1, 2, 3, 17), 'link': 'https://download.geofabrik.de/europe/netherlands/noord-brabant-230101.osm.pbf'}\n",
      "{'date': datetime.datetime(2022, 9, 28, 0, 0), 'link': 'https://transitfeeds.com/p/ov/814/20220928/download'}\n",
      "OSM resource: {'file': '/root/webdev/projects/hiveline/hiveline/routing/data/09c316cdcf1d5d4a6e39c31dd92144468b52c6b5dae10d7d41533455810da631.pbf', 'source': 'https://download.geofabrik.de/europe/netherlands/noord-brabant-230101.osm.pbf', 'date': datetime.datetime(2023, 1, 2, 3, 17)}\n",
      "GTFS resources: [{'file': '/root/webdev/projects/hiveline/hiveline/routing/data/c17f8478f6b7d21b5d8a8f804263af863e46b55c612de0fd261f1cbf5cc8f67a.gtfs.zip', 'source': 'https://transitfeeds.com/p/ov/814/20220928/download', 'date': datetime.datetime(2022, 9, 28, 0, 0), 'provider': 'OV // OVapi GTFS '}]\n",
      "Graph already built\n"
     ]
    },
    {
     "data": {
      "text/plain": [
       "{'otp_version': '2.4.0',\n",
       " 'graph_file': '/root/webdev/projects/hiveline/hiveline/routing/data/6568bc0d8d4d2057c14a85dd-2022-10-04T080000-graph.obj',\n",
       " 'osm_source': {'file': '/root/webdev/projects/hiveline/hiveline/routing/data/09c316cdcf1d5d4a6e39c31dd92144468b52c6b5dae10d7d41533455810da631.pbf',\n",
       "  'source': 'https://download.geofabrik.de/europe/netherlands/noord-brabant-230101.osm.pbf',\n",
       "  'date': datetime.datetime(2023, 1, 2, 3, 17)},\n",
       " 'gtfs_sources': [{'file': '/root/webdev/projects/hiveline/hiveline/routing/data/c17f8478f6b7d21b5d8a8f804263af863e46b55c612de0fd261f1cbf5cc8f67a.gtfs.zip',\n",
       "   'source': 'https://transitfeeds.com/p/ov/814/20220928/download',\n",
       "   'date': datetime.datetime(2022, 9, 28, 0, 0),\n",
       "   'provider': 'OV // OVapi GTFS '}]}"
      ]
     },
     "execution_count": 6,
     "metadata": {},
     "output_type": "execute_result"
    }
   ],
   "source": [
    "hl.build_graph(place_resources, pivot_date, force_rebuild=False, memory_gb=ram_gb)"
   ]
  },
  {
   "cell_type": "markdown",
   "metadata": {
    "collapsed": false
   },
   "source": [
    "## Create and Run Simulation\n",
    "\n",
    "Now that all data is loaded into the database and built locally, we can create a simulation. This will create a new simulation in the database and create a set of virtual commuters"
   ]
  },
  {
   "cell_type": "code",
   "execution_count": 7,
   "metadata": {
    "collapsed": false
   },
   "outputs": [
    {
     "name": "stdout",
     "output_type": "stream",
     "text": [
      "Simulation inserted to mongo\n",
      "Data found in db\n",
      "Data found in db\n",
      "Data found in db\n",
      "Data found in db\n"
     ]
    },
    {
     "ename": "AssertionError",
     "evalue": "This time period is not available (2022).",
     "output_type": "error",
     "traceback": [
      "\u001b[0;31m---------------------------------------------------------------------------\u001b[0m",
      "\u001b[0;31mAssertionError\u001b[0m                            Traceback (most recent call last)",
      "\u001b[1;32m/root/webdev/projects/hiveline/examples/basic-usage.ipynb Cell 13\u001b[0m line \u001b[0;36m1\n\u001b[0;32m----> <a href='vscode-notebook-cell://wsl%2Bdebian/root/webdev/projects/hiveline/examples/basic-usage.ipynb#X15sdnNjb2RlLXJlbW90ZQ%3D%3D?line=0'>1</a>\u001b[0m sim_id \u001b[39m=\u001b[39m hl\u001b[39m.\u001b[39;49mcreate_simulation(place_name, pivot_date, num_virtual_commuters, db\u001b[39m=\u001b[39;49mdb, use_parking\u001b[39m=\u001b[39;49m\u001b[39mFalse\u001b[39;49;00m)\n",
      "File \u001b[0;32m~/webdev/projects/hiveline/examples/../hiveline/vc/generation.py:44\u001b[0m, in \u001b[0;36mcreate_simulation\u001b[0;34m(place_name, pivot_date, num_virtual_commuters, sim_id, db, use_parking, drop_existing)\u001b[0m\n\u001b[1;32m     42\u001b[0m year \u001b[39m=\u001b[39m pivot_date\u001b[39m.\u001b[39myear \u001b[39m#TODO\u001b[39;00m\n\u001b[1;32m     43\u001b[0m city \u001b[39m=\u001b[39m Place(place_name, year)\n\u001b[0;32m---> 44\u001b[0m vc_gen \u001b[39m=\u001b[39m VirtualCommuterGenerator(city, year)\n\u001b[1;32m     46\u001b[0m \u001b[39mprint\u001b[39m(\u001b[39mf\u001b[39m\u001b[39m'\u001b[39m\u001b[39mGenerating \u001b[39m\u001b[39m{\u001b[39;00mnum_virtual_commuters\u001b[39m}\u001b[39;00m\u001b[39m virtual commuters\u001b[39m\u001b[39m'\u001b[39m)\n\u001b[1;32m     48\u001b[0m \u001b[39m# Generate and export virtual commuters\u001b[39;00m\n",
      "File \u001b[0;32m~/webdev/projects/hiveline/examples/../hiveline/vc/vcgenerator.py:103\u001b[0m, in \u001b[0;36mVirtualCommuterGenerator.__init__\u001b[0;34m(self, city, year)\u001b[0m\n\u001b[1;32m    101\u001b[0m \u001b[39mself\u001b[39m\u001b[39m.\u001b[39mcity \u001b[39m=\u001b[39m city\n\u001b[1;32m    102\u001b[0m \u001b[39mself\u001b[39m\u001b[39m.\u001b[39mstats \u001b[39m=\u001b[39m Stats(city, year)\n\u001b[0;32m--> 103\u001b[0m \u001b[39mself\u001b[39;49m\u001b[39m.\u001b[39;49mload_data()\n\u001b[1;32m    104\u001b[0m \u001b[39mself\u001b[39m\u001b[39m.\u001b[39mregion \u001b[39m=\u001b[39m \u001b[39mNone\u001b[39;00m\n",
      "File \u001b[0;32m~/webdev/projects/hiveline/examples/../hiveline/vc/vcgenerator.py:108\u001b[0m, in \u001b[0;36mVirtualCommuterGenerator.load_data\u001b[0;34m(self)\u001b[0m\n\u001b[1;32m    106\u001b[0m \u001b[39mdef\u001b[39;00m \u001b[39mload_data\u001b[39m(\u001b[39mself\u001b[39m):\n\u001b[1;32m    107\u001b[0m     \u001b[39mself\u001b[39m\u001b[39m.\u001b[39mcity\u001b[39m.\u001b[39mload_all()\n\u001b[0;32m--> 108\u001b[0m     \u001b[39mself\u001b[39;49m\u001b[39m.\u001b[39;49mstats\u001b[39m.\u001b[39;49mload_all()\n",
      "File \u001b[0;32m~/webdev/projects/hiveline/examples/../hiveline/od/stats.py:119\u001b[0m, in \u001b[0;36mStats.load_all\u001b[0;34m(self)\u001b[0m\n\u001b[1;32m    115\u001b[0m \u001b[39m\u001b[39m\u001b[39m'''\u001b[39;00m\n\u001b[1;32m    116\u001b[0m \u001b[39mLoad all the demographic data\u001b[39;00m\n\u001b[1;32m    117\u001b[0m \u001b[39m'''\u001b[39;00m\n\u001b[1;32m    118\u001b[0m \u001b[39m# check the data availability\u001b[39;00m\n\u001b[0;32m--> 119\u001b[0m \u001b[39mself\u001b[39;49m\u001b[39m.\u001b[39;49mstat_loader\u001b[39m.\u001b[39;49mcheck_all_data()\n\u001b[1;32m    121\u001b[0m \u001b[39mself\u001b[39m\u001b[39m.\u001b[39mload_age()\n\u001b[1;32m    122\u001b[0m \u001b[39mself\u001b[39m\u001b[39m.\u001b[39mload_motorization()\n",
      "File \u001b[0;32m~/webdev/projects/hiveline/examples/../hiveline/data/loader.py:116\u001b[0m, in \u001b[0;36mEurostatLoader.check_all_data\u001b[0;34m(self)\u001b[0m\n\u001b[1;32m    114\u001b[0m \u001b[39mdef\u001b[39;00m \u001b[39mcheck_all_data\u001b[39m(\u001b[39mself\u001b[39m):\n\u001b[1;32m    115\u001b[0m     \u001b[39mfor\u001b[39;00m dataset \u001b[39min\u001b[39;00m \u001b[39mself\u001b[39m\u001b[39m.\u001b[39mdatasets\u001b[39m.\u001b[39mvalues():\n\u001b[0;32m--> 116\u001b[0m         \u001b[39mself\u001b[39;49m\u001b[39m.\u001b[39;49mcheck_data(dataset[\u001b[39m'\u001b[39;49m\u001b[39mid\u001b[39;49m\u001b[39m'\u001b[39;49m], dataset[\u001b[39m'\u001b[39;49m\u001b[39mprecision\u001b[39;49m\u001b[39m'\u001b[39;49m])\n\u001b[1;32m    117\u001b[0m     \u001b[39mprint\u001b[39m(\u001b[39m'\u001b[39m\u001b[39mAll data available for these regions and time period\u001b[39m\u001b[39m'\u001b[39m)\n",
      "File \u001b[0;32m~/webdev/projects/hiveline/examples/../hiveline/data/loader.py:109\u001b[0m, in \u001b[0;36mEurostatLoader.check_data\u001b[0;34m(self, dataset_id, precision)\u001b[0m\n\u001b[1;32m    106\u001b[0m values \u001b[39m=\u001b[39m \u001b[39mself\u001b[39m\u001b[39m.\u001b[39mget_possible_values(dataset_id, [\u001b[39m'\u001b[39m\u001b[39mTIME_PERIOD\u001b[39m\u001b[39m'\u001b[39m, \u001b[39m'\u001b[39m\u001b[39mgeo\u001b[39m\u001b[39m'\u001b[39m])\n\u001b[1;32m    108\u001b[0m \u001b[39m# check if requested time is available\u001b[39;00m\n\u001b[0;32m--> 109\u001b[0m \u001b[39massert\u001b[39;00m \u001b[39mself\u001b[39m\u001b[39m.\u001b[39myear \u001b[39min\u001b[39;00m values[\u001b[39m'\u001b[39m\u001b[39mTIME_PERIOD\u001b[39m\u001b[39m'\u001b[39m], \u001b[39mf\u001b[39m\u001b[39m'\u001b[39m\u001b[39mThis time period is not available (\u001b[39m\u001b[39m{\u001b[39;00m\u001b[39mself\u001b[39m\u001b[39m.\u001b[39myear\u001b[39m}\u001b[39;00m\u001b[39m).\u001b[39m\u001b[39m'\u001b[39m\n\u001b[1;32m    110\u001b[0m \u001b[39m# check if requested locations are available\u001b[39;00m\n\u001b[1;32m    111\u001b[0m \u001b[39mfor\u001b[39;00m n \u001b[39min\u001b[39;00m \u001b[39mself\u001b[39m\u001b[39m.\u001b[39mnuts_ids[precision]:\n",
      "\u001b[0;31mAssertionError\u001b[0m: This time period is not available (2022)."
     ]
    }
   ],
   "source": [
    "sim_id = hl.create_simulation(place_name, pivot_date, num_virtual_commuters, db=db, use_parking=False)"
   ]
  },
  {
   "cell_type": "markdown",
   "metadata": {
    "collapsed": false
   },
   "source": [
    "After creating a simulation, we can run routing on it. This will use OTP to route all virtual commuters and store the results in the database. This may take a while."
   ]
  },
  {
   "cell_type": "code",
   "execution_count": null,
   "metadata": {
    "collapsed": false
   },
   "outputs": [
    {
     "ename": "NameError",
     "evalue": "name 'sim_id' is not defined",
     "output_type": "error",
     "traceback": [
      "\u001b[0;31m---------------------------------------------------------------------------\u001b[0m",
      "\u001b[0;31mNameError\u001b[0m                                 Traceback (most recent call last)",
      "\u001b[1;32m/root/webdev/projects/hiveline/examples/basic-usage.ipynb Cell 15\u001b[0m line \u001b[0;36m1\n\u001b[0;32m----> <a href='vscode-notebook-cell://wsl%2Bdebian/root/webdev/projects/hiveline/examples/basic-usage.ipynb#X20sdnNjb2RlLXJlbW90ZQ%3D%3D?line=0'>1</a>\u001b[0m hl\u001b[39m.\u001b[39mroute_virtual_commuters(sim_id, use_delays\u001b[39m=\u001b[39muse_delay_simulation, graph_build_memory\u001b[39m=\u001b[39mram_gb, server_memory\u001b[39m=\u001b[39mram_gb, num_threads\u001b[39m=\u001b[39mnum_threads, reset_jobs\u001b[39m=\u001b[39m\u001b[39mTrue\u001b[39;00m)\n",
      "\u001b[0;31mNameError\u001b[0m: name 'sim_id' is not defined"
     ]
    }
   ],
   "source": [
    "hl.route_virtual_commuters(sim_id, use_delays=use_delay_simulation, graph_build_memory=ram_gb, server_memory=ram_gb, num_threads=num_threads, reset_jobs=True)"
   ]
  },
  {
   "cell_type": "markdown",
   "metadata": {
    "collapsed": false
   },
   "source": [
    "## Analyze Simulation\n",
    "\n",
    "Now that we have all routes, we can analyze them. There are a lot of plotting an analysis methods available. Here are some examples:"
   ]
  },
  {
   "cell_type": "code",
   "execution_count": null,
   "metadata": {
    "collapsed": false
   },
   "outputs": [],
   "source": [
    "stats = hl.get_sim_stats(sim_id, db=db)"
   ]
  },
  {
   "cell_type": "code",
   "execution_count": null,
   "metadata": {
    "collapsed": false
   },
   "outputs": [],
   "source": [
    "print(hl.get_all_modal_shares(stats))"
   ]
  },
  {
   "cell_type": "code",
   "execution_count": null,
   "metadata": {
    "collapsed": false
   },
   "outputs": [],
   "source": [
    "print(hl.get_transit_modal_share(stats))  # transit vs car modal share"
   ]
  },
  {
   "cell_type": "code",
   "execution_count": null,
   "metadata": {
    "collapsed": false
   },
   "outputs": [],
   "source": [
    "hl.plot_monte_carlo_convergence(sim_id, db=db, city_name=place_name)"
   ]
  }
 ],
 "metadata": {
  "kernelspec": {
   "display_name": "Python 3",
   "language": "python",
   "name": "python3"
  },
  "language_info": {
   "codemirror_mode": {
    "name": "ipython",
    "version": 3
   },
   "file_extension": ".py",
   "mimetype": "text/x-python",
   "name": "python",
   "nbconvert_exporter": "python",
   "pygments_lexer": "ipython3",
   "version": "3.11.2"
  }
 },
 "nbformat": 4,
 "nbformat_minor": 0
}
