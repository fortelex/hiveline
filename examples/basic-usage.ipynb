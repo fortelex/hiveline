{
 "cells": [
  {
   "cell_type": "markdown",
   "metadata": {
    "collapsed": false,
    "pycharm": {
     "name": "#%% md\n"
    }
   },
   "source": [
    "# Basic Usage\n",
    "Here you can learn how to use this package as a python library. You can create simulations, run routing, congestion simulations and other analytics from here.\n",
    "\n",
    "## Prerequisites\n",
    "\n",
    "Things you need to define before you can run all the simulation:\n",
    "- Place name of the format (for example 'Eindhoven, Netherlands')\n",
    "- The url to the Geofabrik OSM repository for the smallest region covering the place\n",
    "- The url to the Transitfeed place\n",
    "- The date of the simulation (specifies the date where the graph will be built. Note, that the corresponding OSM and GTFS data must be available at this time)\n",
    "- The amount of RAM that can be used to build the graph and run routing (in GB, requirements vary by graph size)\n",
    "- The amount of threads to use for routing\n",
    "- The amount of virtual commuters to simulate\n",
    "- Whether to use delay simulation (you need to setup other data for this)"
   ]
  },
  {
   "cell_type": "code",
   "execution_count": null,
   "metadata": {},
   "outputs": [],
   "source": [
    "import sys\n",
    "sys.path.append('..')\n",
    "import hiveline as hl\n",
    "from datetime import date"
   ]
  },
  {
   "cell_type": "markdown",
   "metadata": {},
   "source": [
    "Define computation variables"
   ]
  },
  {
   "cell_type": "code",
   "execution_count": null,
   "metadata": {
    "collapsed": false,
    "pycharm": {
     "is_executing": true,
     "name": "#%%\n"
    }
   },
   "outputs": [],
   "source": [
    "geofabrik_url = 'https://download.geofabrik.de/europe/netherlands/noord-brabant.html'\n",
    "transitfeed_url = 'https://transitfeeds.com/l/194-the-netherlands'\n",
    "\n",
    "simulation_date = date(2022, 10, 4)\n",
    "num_virtual_commuters = 2000"
   ]
  },
  {
   "cell_type": "markdown",
   "source": [
    "Define study location and time"
   ],
   "metadata": {}
  },
  {
   "cell_type": "code",
   "execution_count": null,
   "outputs": [],
   "source": [
    "place_name = 'Eindhoven, Netherlands'\n",
    "year = '2020' # str(simulation_date.year)\n",
    "place = hl.Place(place_name, year)"
   ],
   "metadata": {}
  },
  {
   "cell_type": "code",
   "execution_count": null,
   "outputs": [],
   "source": [
    "# (optional) add surrounding cities\n",
    "country = 'Netherlands'\n",
    "place_names = ['Son en Breugel', 'Nuenen', 'Geldrop-Mierlo', 'Helmond', 'Heeze-Leende', 'Waalre', 'Veldhoven', 'Eersel', 'Oirschot', 'Best']\n",
    "place_names = [p+', '+country for p in place_names]\n",
    "place.merge_places('Eindhoven suburbs, Netherlands', place_names)"
   ],
   "metadata": {}
  },
  {
   "cell_type": "markdown",
   "metadata": {
    "collapsed": false
   },
   "source": [
    "## Load place ressources"
   ]
  },
  {
   "cell_type": "markdown",
   "metadata": {
    "collapsed": false
   },
   "source": [
    "Now we can get the place_id and index the OSM and GTFS data for routing. Note that this may scrape the data from the corresponding websites."
   ]
  },
  {
   "cell_type": "code",
   "execution_count": null,
   "metadata": {
    "collapsed": false
   },
   "outputs": [],
   "source": [
    "db = hl.get_database()\n",
    "place_resources = hl.create_place_resources(geofabrik_url, transitfeed_url, place_name, db=db, skip_existing=True)"
   ]
  },
  {
   "cell_type": "markdown",
   "metadata": {
    "collapsed": false
   },
   "source": [
    "## Create and Run Simulation\n",
    "\n",
    "Now that all data is loaded into the database and built locally, we can create a simulation. This will create a new simulation in the database and create a set of virtual commuters"
   ]
  },
  {
   "cell_type": "code",
   "execution_count": null,
   "metadata": {
    "collapsed": false
   },
   "outputs": [],
   "source": [
    "sim_id = hl.create_simulation(place, simulation_date, num_virtual_commuters, db=db, use_parking=False)"
   ]
  },
  {
   "cell_type": "markdown",
   "metadata": {
    "collapsed": false
   },
   "source": [
    "After creating a simulation, we can run routing on it. This will use a given routing profile to route all virtual commuters and store the results in the database. This may take a while."
   ]
  },
  {
   "cell_type": "code",
   "execution_count": null,
   "metadata": {
    "collapsed": false
   },
   "outputs": [],
   "source": [
    "profile = \"opentripplanner\"\n",
    "ram_gb = 14\n",
    "num_threads = 6\n",
    "use_delay_simulation = False\n",
    "hl.route_virtual_commuters(sim_id, profile, use_delays=use_delay_simulation, memory_gb=ram_gb, num_threads=num_threads, reset_jobs=True)"
   ]
  },
  {
   "cell_type": "markdown",
   "metadata": {
    "collapsed": false
   },
   "source": [
    "## Analyze Simulation\n",
    "\n",
    "Now that we have all routes, we can analyze them. There are a lot of plotting an analysis methods available. "
   ]
  },
  {
   "cell_type": "code",
   "execution_count": null,
   "metadata": {
    "collapsed": false
   },
   "outputs": [],
   "source": [
    "journeys = hl.Journeys(sim_id, db=db, use_cache=False)  # get all journeys to analyze"
   ]
  },
  {
   "cell_type": "code",
   "execution_count": null,
   "outputs": [],
   "source": [
    "stats = hl.get_journeys_stats(journeys)"
   ],
   "metadata": {
    "collapsed": false
   }
  },
  {
   "cell_type": "code",
   "execution_count": null,
   "metadata": {},
   "outputs": [],
   "source": [
    "stats.to_dict()"
   ]
  },
  {
   "cell_type": "code",
   "execution_count": null,
   "metadata": {
    "collapsed": false
   },
   "outputs": [],
   "source": [
    "print(stats.get_all_modal_shares())"
   ]
  },
  {
   "cell_type": "code",
   "execution_count": null,
   "metadata": {
    "collapsed": false
   },
   "outputs": [],
   "source": [
    "print(stats.get_transit_modal_share())  # transit vs car modal share"
   ]
  },
  {
   "cell_type": "code",
   "execution_count": null,
   "metadata": {
    "collapsed": false
   },
   "outputs": [],
   "source": [
    "hl.plot_monte_carlo_convergence(journeys, city_name=place_name)"
   ]
  },
  {
   "cell_type": "code",
   "execution_count": null,
   "outputs": [],
   "source": [
    "from IPython.display import Image\n",
    "filename = hl.plot_traces(journeys, place, folder=\"images\", filename=place_name + \"-traces\")\n",
    "Image(filename=filename) "
   ],
   "metadata": {
    "collapsed": false
   }
  },
  {
   "cell_type": "markdown",
   "source": [
    "Optionally, you can filter the journeys by a given bounding shape to only account for modal shares in a specific region. This is an example where we use the primary place boundary as a bounding shape. "
   ],
   "metadata": {
    "collapsed": false
   }
  },
  {
   "cell_type": "code",
   "execution_count": null,
   "outputs": [],
   "source": [
    "shape = place.shape.iloc[0].geometry\n",
    "stats = hl.get_journeys_stats(journeys, shape=shape)\n",
    "print(stats.to_dict())\n",
    "print(stats.get_all_modal_shares())\n",
    "print(\"transit modal share:\", stats.get_transit_modal_share())"
   ],
   "metadata": {
    "collapsed": false
   }
  },
  {
   "cell_type": "code",
   "execution_count": null,
   "outputs": [],
   "source": [],
   "metadata": {
    "collapsed": false
   }
  }
 ],
 "metadata": {
  "kernelspec": {
   "display_name": "Python 3",
   "language": "python",
   "name": "python3"
  },
  "language_info": {
   "codemirror_mode": {
    "name": "ipython",
    "version": 3
   },
   "file_extension": ".py",
   "mimetype": "text/x-python",
   "name": "python",
   "nbconvert_exporter": "python",
   "pygments_lexer": "ipython3",
   "version": "3.10.13"
  }
 },
 "nbformat": 4,
 "nbformat_minor": 0
}
