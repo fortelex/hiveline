{
 "cells": [
  {
   "cell_type": "markdown",
   "source": [
    "# Basic Usage\n",
    "Here you can learn how to use this package as a python library. You can create simulations, run routing, congestion simulations and other analytics from here.\n",
    "\n",
    "## Prerequisites\n",
    "\n",
    "Things you need to define before you can run all the simulation:\n",
    "- Place name of the format (for example 'Eindhoven, Netherlands')\n",
    "- The url to the Geofabrik OSM repository for the smallest region covering the place\n",
    "- The url to the Transitfeed place\n",
    "- The date and time of the pivot date (specifies the time where the graph will be built. Note, that the corresponding OSM and GTFS data must be available at this time)\n",
    "- The amount of RAM that can be used to build the graph and run routing (in GB, requirements vary by graph size)\n",
    "- The amount of threads to use for routing\n",
    "- The amount of virtual commuters to simulate\n",
    "- Whether to use delay simulation (you need to setup other data for this)"
   ],
   "metadata": {
    "collapsed": false,
    "pycharm": {
     "name": "#%% md\n"
    }
   }
  },
  {
   "cell_type": "code",
   "execution_count": null,
   "outputs": [],
   "source": [
    "from datetime import datetime, timezone\n",
    "\n",
    "place_name = 'Eindhoven, Netherlands'\n",
    "geofabrik_url = 'https://download.geofabrik.de/europe/netherlands/noord-brabant.html'\n",
    "transitfeed_url = 'https://transitfeeds.com/l/194-the-netherlands'\n",
    "pivot_date = datetime(2022, 10, 4, 8, 0, 0, 0, tzinfo=None)\n",
    "ram_gb = 12\n",
    "num_threads = 6\n",
    "num_virtual_commuters = 2000\n",
    "use_delay_simulation = False"
   ],
   "metadata": {
    "collapsed": false,
    "pycharm": {
     "name": "#%%\n",
     "is_executing": true
    }
   }
  },
  {
   "cell_type": "markdown",
   "source": [
    "## Load a Place\n",
    "\n",
    "First, we will load the place. Currently, a bit inconvinient. we plan to streamline this process in the future. First, we load the demographics data."
   ],
   "metadata": {
    "collapsed": false
   }
  },
  {
   "cell_type": "code",
   "execution_count": null,
   "outputs": [],
   "source": [
    "import hiveline\n",
    "db = hiveline.get_database()\n",
    "\n",
    "place = hiveline.Place(place_name)\n",
    "place.load_all()"
   ],
   "metadata": {
    "collapsed": false
   }
  },
  {
   "cell_type": "markdown",
   "source": [
    "Add the place to the database. This will create a new place (or update it) as well as the corresponding tile data."
   ],
   "metadata": {
    "collapsed": false
   }
  },
  {
   "cell_type": "code",
   "execution_count": null,
   "outputs": [],
   "source": [
    "place.export_place_to_mongo()\n",
    "place.export_tiles_to_mongo()"
   ],
   "metadata": {
    "collapsed": false
   }
  },
  {
   "cell_type": "markdown",
   "source": [
    "Now we can get the place_id and index the OSM and GTFS data for routing. Note that this may scrape the data from the corresponding websites."
   ],
   "metadata": {
    "collapsed": false
   }
  },
  {
   "cell_type": "code",
   "execution_count": null,
   "outputs": [],
   "source": [
    "place_id = hiveline.get_place_id(db, place_name)\n",
    "place_resources = hiveline.create_place_resources(geofabrik_url, transitfeed_url, place_name, place_id, db, skip_existing=True)"
   ],
   "metadata": {
    "collapsed": false
   }
  },
  {
   "cell_type": "markdown",
   "source": [
    "## Build OTP Graph\n",
    "\n",
    "Next, we will prepare OpenTripPlanner. This will download any necessary files and build the graph for the pivot date. This may take a while. \n",
    "\n",
    "Note, that once you built the graph for one place and time, it will be stored in the cache and you can reuse it later. The build graph function will skip building in this case.\n",
    "\n",
    "Also note, that OTP's output is printed to the jupyter console. If the building process fails, it can help to look into the jupyter console output to find the reason."
   ],
   "metadata": {
    "collapsed": false
   }
  },
  {
   "cell_type": "code",
   "execution_count": null,
   "outputs": [],
   "source": [
    "hiveline.build_graph(place_resources, pivot_date, force_rebuild=False, memory_gb=ram_gb)"
   ],
   "metadata": {
    "collapsed": false
   }
  },
  {
   "cell_type": "markdown",
   "source": [
    "## Create and Run Simulation\n",
    "\n",
    "Now that all data is loaded into the database and built locally, we can create a simulation. This will create a new simulation in the database and create a set of virtual commuters"
   ],
   "metadata": {
    "collapsed": false
   }
  },
  {
   "cell_type": "code",
   "execution_count": null,
   "outputs": [],
   "source": [
    "sim_id = hiveline.create_simulation(place_name, pivot_date, num_virtual_commuters, db=db, use_parking=False)"
   ],
   "metadata": {
    "collapsed": false
   }
  },
  {
   "cell_type": "markdown",
   "source": [
    "After creating a simulation, we can run routing on it. This will use OTP to route all virtual commuters and store the results in the database. This may take a while."
   ],
   "metadata": {
    "collapsed": false
   }
  },
  {
   "cell_type": "code",
   "execution_count": null,
   "outputs": [],
   "source": [
    "hiveline.route_virtual_commuters(sim_id, use_delays=use_delay_simulation, graph_build_memory=ram_gb, server_memory=ram_gb, num_threads=num_threads, reset_jobs=True)"
   ],
   "metadata": {
    "collapsed": false
   }
  },
  {
   "cell_type": "markdown",
   "source": [
    "## Analyze Simulation\n",
    "\n",
    "Now that we have all routes, we can analyze them. There are a lot of plotting an analysis methods available. Here are some examples:"
   ],
   "metadata": {
    "collapsed": false
   }
  },
  {
   "cell_type": "code",
   "execution_count": null,
   "outputs": [],
   "source": [
    "stats = hiveline.get_sim_stats(sim_id, db=db)"
   ],
   "metadata": {
    "collapsed": false
   }
  },
  {
   "cell_type": "code",
   "execution_count": null,
   "outputs": [],
   "source": [
    "print(hiveline.get_all_modal_shares(stats))"
   ],
   "metadata": {
    "collapsed": false
   }
  },
  {
   "cell_type": "code",
   "execution_count": null,
   "outputs": [],
   "source": [
    "print(hiveline.get_transit_modal_share(stats))  # transit vs car modal share"
   ],
   "metadata": {
    "collapsed": false
   }
  },
  {
   "cell_type": "code",
   "execution_count": null,
   "outputs": [],
   "source": [
    "hiveline.plot_monte_carlo_convergence(sim_id, db=db, city_name=place_name)"
   ],
   "metadata": {
    "collapsed": false
   }
  }
 ],
 "metadata": {
  "kernelspec": {
   "display_name": "Python 3",
   "language": "python",
   "name": "python3"
  },
  "language_info": {
   "codemirror_mode": {
    "name": "ipython",
    "version": 2
   },
   "file_extension": ".py",
   "mimetype": "text/x-python",
   "name": "python",
   "nbconvert_exporter": "python",
   "pygments_lexer": "ipython2",
   "version": "2.7.6"
  }
 },
 "nbformat": 4,
 "nbformat_minor": 0
}
