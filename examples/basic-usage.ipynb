{
 "cells": [
  {
   "cell_type": "markdown",
   "metadata": {
    "collapsed": false,
    "pycharm": {
     "name": "#%% md\n"
    }
   },
   "source": [
    "# Basic Usage\n",
    "Here you can learn how to use this package as a python library. You can create simulations, run routing, congestion simulations and other analytics from here.\n",
    "\n",
    "## Prerequisites\n",
    "\n",
    "Things you need to define before you can run all the simulation:\n",
    "- Place name of the format (for example 'Eindhoven, Netherlands')\n",
    "- The url to the Geofabrik OSM repository for the smallest region covering the place\n",
    "- The url to the Transitfeed place\n",
    "- The date and time of the pivot date (specifies the time where the graph will be built. Note, that the corresponding OSM and GTFS data must be available at this time)\n",
    "- The amount of RAM that can be used to build the graph and run routing (in GB, requirements vary by graph size)\n",
    "- The amount of threads to use for routing\n",
    "- The amount of virtual commuters to simulate\n",
    "- Whether to use delay simulation (you need to setup other data for this)"
   ]
  },
  {
   "cell_type": "code",
   "execution_count": 1,
   "metadata": {},
   "outputs": [],
   "source": [
    "import sys\n",
    "sys.path.append('..')\n",
    "import hiveline as hl\n",
    "from datetime import datetime, timezone"
   ]
  },
  {
   "cell_type": "markdown",
   "metadata": {},
   "source": [
    "Define study location and time"
   ]
  },
  {
   "cell_type": "code",
   "execution_count": 2,
   "metadata": {},
   "outputs": [
    {
     "name": "stdout",
     "output_type": "stream",
     "text": [
      "Data found in db\n"
     ]
    }
   ],
   "source": [
    "place_name = 'Eindhoven, Netherlands'\n",
    "year = '2020'# str(pivot_date.year)\n",
    "place = hl.Place(place_name, year)"
   ]
  },
  {
   "cell_type": "code",
   "execution_count": 3,
   "metadata": {},
   "outputs": [
    {
     "name": "stdout",
     "output_type": "stream",
     "text": [
      "Data found in db\n",
      "Data found in db\n",
      "Data found in db\n",
      "Data found in db\n",
      "Data found in db\n",
      "Data found in db\n",
      "Data found in db\n",
      "Data found in db\n",
      "Data found in db\n",
      "Data found in db\n",
      "Data found in db\n"
     ]
    }
   ],
   "source": [
    "# (optional) add surrounding cities\n",
    "country = 'Netherlands'\n",
    "place_names = ['Son en Breugel', 'Nuenen', 'Geldrop-Mierlo', 'Helmond', 'Heeze-Leende', 'Waalre', 'Veldhoven', 'Eersel', 'Oirschot', 'Best']\n",
    "place_names = [p+', '+country for p in place_names]\n",
    "place.merge_places('Eindhoven suburbs, Netherlands', place_names)"
   ]
  },
  {
   "cell_type": "markdown",
   "metadata": {},
   "source": [
    "Define computation variables"
   ]
  },
  {
   "cell_type": "code",
   "execution_count": 3,
   "metadata": {
    "collapsed": false,
    "pycharm": {
     "is_executing": true,
     "name": "#%%\n"
    }
   },
   "outputs": [],
   "source": [
    "geofabrik_url = 'https://download.geofabrik.de/europe/netherlands/noord-brabant.html'\n",
    "transitfeed_url = 'https://transitfeeds.com/l/194-the-netherlands'\n",
    "# commute_depart_datetime = datetime(2022, 10, 4, 8, 0, 0, 0, tzinfo=astimezone(timezone(\"Europe/Paris\")))\n",
    "\n",
    "pivot_date = datetime(2022, 10, 4, 8, 0, 0, 0, tzinfo=None)  #TODO change \n",
    "ram_gb = 10\n",
    "num_threads = 6\n",
    "num_virtual_commuters = 2000\n",
    "use_delay_simulation = False"
   ]
  },
  {
   "cell_type": "markdown",
   "metadata": {
    "collapsed": false
   },
   "source": [
    "## Load place ressources"
   ]
  },
  {
   "cell_type": "markdown",
   "metadata": {
    "collapsed": false
   },
   "source": [
    "Now we can get the place_id and index the OSM and GTFS data for routing. Note that this may scrape the data from the corresponding websites."
   ]
  },
  {
   "cell_type": "code",
   "execution_count": 4,
   "metadata": {
    "collapsed": false
   },
   "outputs": [],
   "source": [
    "db = hl.get_database()\n",
    "place_resources = hl.create_place_resources(geofabrik_url, transitfeed_url, place_name, db=db, skip_existing=True)"
   ]
  },
  {
   "cell_type": "markdown",
   "metadata": {
    "collapsed": false
   },
   "source": [
    "## Build OTP Graph\n",
    "\n",
    "Next, we will prepare OpenTripPlanner. This will download any necessary files and build the graph for the pivot date. This may take a while. \n",
    "\n",
    "Note, that once you built the graph for one place and time, it will be stored in the cache and you can reuse it later. The build graph function will skip building in this case.\n",
    "\n",
    "Also note, that OTP's output is printed to the jupyter console. If the building process fails, it can help to look into the jupyter console output to find the reason."
   ]
  },
  {
   "cell_type": "code",
   "execution_count": 5,
   "metadata": {
    "collapsed": false
   },
   "outputs": [
    {
     "name": "stdout",
     "output_type": "stream",
     "text": [
      "Cleaned up graph file\n",
      "{'date': datetime.datetime(2023, 1, 2, 3, 17), 'link': 'https://download.geofabrik.de/europe/netherlands/noord-brabant-230101.osm.pbf'}\n",
      "{'date': datetime.datetime(2022, 9, 28, 0, 0), 'link': 'https://transitfeeds.com/p/ov/814/20220928/download'}\n",
      "OSM resource: {'file': '/home/nicod/Documents/Codagon/hiveline/hiveline/routing/data/09c316cdcf1d5d4a6e39c31dd92144468b52c6b5dae10d7d41533455810da631.pbf', 'source': 'https://download.geofabrik.de/europe/netherlands/noord-brabant-230101.osm.pbf', 'date': datetime.datetime(2023, 1, 2, 3, 17)}\n",
      "GTFS resources: [{'file': '/home/nicod/Documents/Codagon/hiveline/hiveline/routing/data/c17f8478f6b7d21b5d8a8f804263af863e46b55c612de0fd261f1cbf5cc8f67a.gtfs.zip', 'source': 'https://transitfeeds.com/p/ov/814/20220928/download', 'date': datetime.datetime(2022, 9, 28, 0, 0), 'provider': 'OV // OVapi GTFS '}]\n",
      "Graph already built\n"
     ]
    },
    {
     "data": {
      "text/plain": [
       "{'otp_version': '2.4.0',\n",
       " 'graph_file': '/home/nicod/Documents/Codagon/hiveline/hiveline/routing/data/6568bc0d8d4d2057c14a85dd-2022-10-04T080000-graph.obj',\n",
       " 'osm_source': {'file': '/home/nicod/Documents/Codagon/hiveline/hiveline/routing/data/09c316cdcf1d5d4a6e39c31dd92144468b52c6b5dae10d7d41533455810da631.pbf',\n",
       "  'source': 'https://download.geofabrik.de/europe/netherlands/noord-brabant-230101.osm.pbf',\n",
       "  'date': datetime.datetime(2023, 1, 2, 3, 17)},\n",
       " 'gtfs_sources': [{'file': '/home/nicod/Documents/Codagon/hiveline/hiveline/routing/data/c17f8478f6b7d21b5d8a8f804263af863e46b55c612de0fd261f1cbf5cc8f67a.gtfs.zip',\n",
       "   'source': 'https://transitfeeds.com/p/ov/814/20220928/download',\n",
       "   'date': datetime.datetime(2022, 9, 28, 0, 0),\n",
       "   'provider': 'OV // OVapi GTFS '}]}"
      ]
     },
     "execution_count": 5,
     "metadata": {},
     "output_type": "execute_result"
    }
   ],
   "source": [
    "hl.build_graph(place_resources, pivot_date, force_rebuild=False, memory_gb=ram_gb)"
   ]
  },
  {
   "cell_type": "markdown",
   "metadata": {
    "collapsed": false
   },
   "source": [
    "## Create and Run Simulation\n",
    "\n",
    "Now that all data is loaded into the database and built locally, we can create a simulation. This will create a new simulation in the database and create a set of virtual commuters"
   ]
  },
  {
   "cell_type": "code",
   "execution_count": 6,
   "metadata": {
    "collapsed": false
   },
   "outputs": [
    {
     "name": "stdout",
     "output_type": "stream",
     "text": [
      "Simulation inserted to mongo\n",
      "Data found in db\n",
      "Data found in db\n",
      "Data found in db\n"
     ]
    },
    {
     "name": "stderr",
     "output_type": "stream",
     "text": [
      "/home/nicod/.local/lib/python3.10/site-packages/geopandas/geodataframe.py:1442: UserWarning: Geometry column does not contain geometry.\n",
      "  warnings.warn(\"Geometry column does not contain geometry.\")\n"
     ]
    },
    {
     "name": "stdout",
     "output_type": "stream",
     "text": [
      "All data available for these regions and time period\n",
      "Data found in db\n",
      "Data found in db\n",
      "Data found in db\n",
      "Data found in db\n",
      "Generating 2000 virtual commuters\n"
     ]
    }
   ],
   "source": [
    "sim_id = hl.create_simulation(place, pivot_date, num_virtual_commuters, db=db, use_parking=False)"
   ]
  },
  {
   "cell_type": "markdown",
   "metadata": {
    "collapsed": false
   },
   "source": [
    "After creating a simulation, we can run routing on it. This will use OTP to route all virtual commuters and store the results in the database. This may take a while."
   ]
  },
  {
   "cell_type": "code",
   "execution_count": 7,
   "metadata": {
    "collapsed": false
   },
   "outputs": [
    {
     "name": "stdout",
     "output_type": "stream",
     "text": [
      "[WRAPPER] Running routing algorithm for sim_id 6fda7e93-a303-4326-ab3f-361e4fe0871b\n",
      "Not yet supported for the current OS\n",
      "[WRAPPER] Routing algorithm for sim_id 6fda7e93-a303-4326-ab3f-361e4fe0871b killed\n"
     ]
    }
   ],
   "source": [
    "hl.route_virtual_commuters(sim_id, use_delays=use_delay_simulation, graph_build_memory=ram_gb, server_memory=ram_gb, num_threads=num_threads, reset_jobs=True)"
   ]
  },
  {
   "cell_type": "markdown",
   "metadata": {
    "collapsed": false
   },
   "source": [
    "## Analyze Simulation\n",
    "\n",
    "Now that we have all routes, we can analyze them. There are a lot of plotting an analysis methods available. Here are some examples:"
   ]
  },
  {
   "cell_type": "code",
   "execution_count": 8,
   "metadata": {
    "collapsed": false
   },
   "outputs": [],
   "source": [
    "stats = hl.get_sim_stats(sim_id, db=db)"
   ]
  },
  {
   "cell_type": "code",
   "execution_count": null,
   "metadata": {},
   "outputs": [],
   "source": [
    "stats"
   ]
  },
  {
   "cell_type": "code",
   "execution_count": null,
   "metadata": {
    "collapsed": false
   },
   "outputs": [],
   "source": [
    "print(hl.get_all_modal_shares(stats))"
   ]
  },
  {
   "cell_type": "code",
   "execution_count": null,
   "metadata": {
    "collapsed": false
   },
   "outputs": [],
   "source": [
    "print(hl.get_transit_modal_share(stats))  # transit vs car modal share"
   ]
  },
  {
   "cell_type": "code",
   "execution_count": null,
   "metadata": {
    "collapsed": false
   },
   "outputs": [],
   "source": [
    "hl.plot_monte_carlo_convergence(sim_id, db=db, city_name=place_name)"
   ]
  }
 ],
 "metadata": {
  "kernelspec": {
   "display_name": "Python 3",
   "language": "python",
   "name": "python3"
  },
  "language_info": {
   "codemirror_mode": {
    "name": "ipython",
    "version": 3
   },
   "file_extension": ".py",
   "mimetype": "text/x-python",
   "name": "python",
   "nbconvert_exporter": "python",
   "pygments_lexer": "ipython3",
   "version": "3.10.13"
  }
 },
 "nbformat": 4,
 "nbformat_minor": 0
}
