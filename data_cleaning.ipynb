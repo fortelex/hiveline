{
 "cells": [
  {
   "cell_type": "code",
   "execution_count": 1,
   "metadata": {},
   "outputs": [],
   "source": [
    "import pandas as pd"
   ]
  },
  {
   "cell_type": "markdown",
   "metadata": {},
   "source": [
    "# Data cleaning"
   ]
  },
  {
   "cell_type": "code",
   "execution_count": 2,
   "metadata": {},
   "outputs": [],
   "source": [
    "data_folder = 'data/'\n",
    "age_path = data_folder + 'age/age_nuts3.csv'\n",
    "employment_path = data_folder + 'employment_rate/employment_rate_nuts2.csv'"
   ]
  },
  {
   "cell_type": "markdown",
   "metadata": {},
   "source": [
    "## Age dataset"
   ]
  },
  {
   "cell_type": "code",
   "execution_count": 6,
   "metadata": {},
   "outputs": [
    {
     "data": {
      "text/html": [
       "<div>\n",
       "<style scoped>\n",
       "    .dataframe tbody tr th:only-of-type {\n",
       "        vertical-align: middle;\n",
       "    }\n",
       "\n",
       "    .dataframe tbody tr th {\n",
       "        vertical-align: top;\n",
       "    }\n",
       "\n",
       "    .dataframe thead th {\n",
       "        text-align: right;\n",
       "    }\n",
       "</style>\n",
       "<table border=\"1\" class=\"dataframe\">\n",
       "  <thead>\n",
       "    <tr style=\"text-align: right;\">\n",
       "      <th></th>\n",
       "      <th>age</th>\n",
       "      <th>geo</th>\n",
       "      <th>TIME_PERIOD</th>\n",
       "      <th>OBS_VALUE</th>\n",
       "    </tr>\n",
       "  </thead>\n",
       "  <tbody>\n",
       "    <tr>\n",
       "      <th>0</th>\n",
       "      <td>UNK</td>\n",
       "      <td>AL</td>\n",
       "      <td>2021</td>\n",
       "      <td>0</td>\n",
       "    </tr>\n",
       "    <tr>\n",
       "      <th>1</th>\n",
       "      <td>UNK</td>\n",
       "      <td>AL</td>\n",
       "      <td>2022</td>\n",
       "      <td>0</td>\n",
       "    </tr>\n",
       "    <tr>\n",
       "      <th>2</th>\n",
       "      <td>UNK</td>\n",
       "      <td>AL0</td>\n",
       "      <td>2021</td>\n",
       "      <td>0</td>\n",
       "    </tr>\n",
       "    <tr>\n",
       "      <th>3</th>\n",
       "      <td>UNK</td>\n",
       "      <td>AL01</td>\n",
       "      <td>2021</td>\n",
       "      <td>0</td>\n",
       "    </tr>\n",
       "    <tr>\n",
       "      <th>4</th>\n",
       "      <td>UNK</td>\n",
       "      <td>AL011</td>\n",
       "      <td>2021</td>\n",
       "      <td>0</td>\n",
       "    </tr>\n",
       "  </tbody>\n",
       "</table>\n",
       "</div>"
      ],
      "text/plain": [
       "   age    geo  TIME_PERIOD  OBS_VALUE\n",
       "0  UNK     AL         2021          0\n",
       "1  UNK     AL         2022          0\n",
       "2  UNK    AL0         2021          0\n",
       "3  UNK   AL01         2021          0\n",
       "4  UNK  AL011         2021          0"
      ]
     },
     "execution_count": 6,
     "metadata": {},
     "output_type": "execute_result"
    }
   ],
   "source": [
    "# load dataset\n",
    "df_age = pd.read_csv(age_path)\n",
    "# drop useless columns\n",
    "df_age.drop(columns=['STRUCTURE', 'STRUCTURE_ID', 'freq', 'sex', 'unit', 'OBS_FLAG'], inplace=True)\n",
    "df_age.head()"
   ]
  },
  {
   "cell_type": "code",
   "execution_count": 7,
   "metadata": {},
   "outputs": [],
   "source": [
    "# filter by time\n",
    "year = 2022\n",
    "def filter_year(df, year):\n",
    "    df = df[df['TIME_PERIOD']==year]\n",
    "    df = df.drop(columns='TIME_PERIOD')\n",
    "    return df\n",
    "\n",
    "df_age = filter_year(df_age, year)"
   ]
  },
  {
   "cell_type": "code",
   "execution_count": 8,
   "metadata": {},
   "outputs": [],
   "source": [
    "# filter by max precision (NUTS 3)\n",
    "def filter_precision(df):\n",
    "    max_precision = df['geo'].apply(len).max()\n",
    "    df = df[df['geo'].apply(len)==max_precision]\n",
    "    return df\n",
    "\n",
    "df_age = filter_precision(df_age)"
   ]
  },
  {
   "cell_type": "code",
   "execution_count": 9,
   "metadata": {},
   "outputs": [
    {
     "name": "stdout",
     "output_type": "stream",
     "text": [
      "[0]\n"
     ]
    }
   ],
   "source": [
    "# unknown age is always 0, so it can be dropped\n",
    "print(df_age.loc[df_age['age']=='UNK', 'OBS_VALUE'].unique())\n",
    "df_age = df_age[df_age['age']!='UNK']"
   ]
  },
  {
   "cell_type": "code",
   "execution_count": 10,
   "metadata": {},
   "outputs": [
    {
     "data": {
      "text/html": [
       "<div>\n",
       "<style scoped>\n",
       "    .dataframe tbody tr th:only-of-type {\n",
       "        vertical-align: middle;\n",
       "    }\n",
       "\n",
       "    .dataframe tbody tr th {\n",
       "        vertical-align: top;\n",
       "    }\n",
       "\n",
       "    .dataframe thead th {\n",
       "        text-align: right;\n",
       "    }\n",
       "</style>\n",
       "<table border=\"1\" class=\"dataframe\">\n",
       "  <thead>\n",
       "    <tr style=\"text-align: right;\">\n",
       "      <th></th>\n",
       "      <th>age</th>\n",
       "      <th>nuts3</th>\n",
       "      <th>count</th>\n",
       "    </tr>\n",
       "  </thead>\n",
       "  <tbody>\n",
       "    <tr>\n",
       "      <th>3377</th>\n",
       "      <td>Y10-14</td>\n",
       "      <td>AL011</td>\n",
       "      <td>7168</td>\n",
       "    </tr>\n",
       "    <tr>\n",
       "      <th>3379</th>\n",
       "      <td>Y10-14</td>\n",
       "      <td>AL012</td>\n",
       "      <td>16203</td>\n",
       "    </tr>\n",
       "    <tr>\n",
       "      <th>3381</th>\n",
       "      <td>Y10-14</td>\n",
       "      <td>AL013</td>\n",
       "      <td>4939</td>\n",
       "    </tr>\n",
       "    <tr>\n",
       "      <th>3383</th>\n",
       "      <td>Y10-14</td>\n",
       "      <td>AL014</td>\n",
       "      <td>6798</td>\n",
       "    </tr>\n",
       "    <tr>\n",
       "      <th>3385</th>\n",
       "      <td>Y10-14</td>\n",
       "      <td>AL015</td>\n",
       "      <td>11474</td>\n",
       "    </tr>\n",
       "  </tbody>\n",
       "</table>\n",
       "</div>"
      ],
      "text/plain": [
       "         age  nuts3  count\n",
       "3377  Y10-14  AL011   7168\n",
       "3379  Y10-14  AL012  16203\n",
       "3381  Y10-14  AL013   4939\n",
       "3383  Y10-14  AL014   6798\n",
       "3385  Y10-14  AL015  11474"
      ]
     },
     "execution_count": 10,
     "metadata": {},
     "output_type": "execute_result"
    }
   ],
   "source": [
    "# export clean table to csv\n",
    "df_age.rename(columns={'geo':'nuts3', 'OBS_VALUE':'count'}, inplace=True)\n",
    "df_age.to_csv(data_folder+f'age/age_nuts3_{year}_clean.csv', index=False)\n",
    "df_age.head()"
   ]
  },
  {
   "cell_type": "markdown",
   "metadata": {},
   "source": [
    "## Employment rate dataset"
   ]
  },
  {
   "cell_type": "code",
   "execution_count": 11,
   "metadata": {},
   "outputs": [
    {
     "data": {
      "text/html": [
       "<div>\n",
       "<style scoped>\n",
       "    .dataframe tbody tr th:only-of-type {\n",
       "        vertical-align: middle;\n",
       "    }\n",
       "\n",
       "    .dataframe tbody tr th {\n",
       "        vertical-align: top;\n",
       "    }\n",
       "\n",
       "    .dataframe thead th {\n",
       "        text-align: right;\n",
       "    }\n",
       "</style>\n",
       "<table border=\"1\" class=\"dataframe\">\n",
       "  <thead>\n",
       "    <tr style=\"text-align: right;\">\n",
       "      <th></th>\n",
       "      <th>age</th>\n",
       "      <th>geo</th>\n",
       "      <th>TIME_PERIOD</th>\n",
       "      <th>OBS_VALUE</th>\n",
       "    </tr>\n",
       "  </thead>\n",
       "  <tbody>\n",
       "    <tr>\n",
       "      <th>0</th>\n",
       "      <td>Y20-64</td>\n",
       "      <td>AT</td>\n",
       "      <td>2021</td>\n",
       "      <td>75.6</td>\n",
       "    </tr>\n",
       "    <tr>\n",
       "      <th>1</th>\n",
       "      <td>Y20-64</td>\n",
       "      <td>AT</td>\n",
       "      <td>2022</td>\n",
       "      <td>77.3</td>\n",
       "    </tr>\n",
       "    <tr>\n",
       "      <th>2</th>\n",
       "      <td>Y20-64</td>\n",
       "      <td>AT1</td>\n",
       "      <td>2021</td>\n",
       "      <td>73.2</td>\n",
       "    </tr>\n",
       "    <tr>\n",
       "      <th>3</th>\n",
       "      <td>Y20-64</td>\n",
       "      <td>AT1</td>\n",
       "      <td>2022</td>\n",
       "      <td>74.6</td>\n",
       "    </tr>\n",
       "    <tr>\n",
       "      <th>4</th>\n",
       "      <td>Y20-64</td>\n",
       "      <td>AT11</td>\n",
       "      <td>2021</td>\n",
       "      <td>74.9</td>\n",
       "    </tr>\n",
       "  </tbody>\n",
       "</table>\n",
       "</div>"
      ],
      "text/plain": [
       "      age   geo  TIME_PERIOD  OBS_VALUE\n",
       "0  Y20-64    AT         2021       75.6\n",
       "1  Y20-64    AT         2022       77.3\n",
       "2  Y20-64   AT1         2021       73.2\n",
       "3  Y20-64   AT1         2022       74.6\n",
       "4  Y20-64  AT11         2021       74.9"
      ]
     },
     "execution_count": 11,
     "metadata": {},
     "output_type": "execute_result"
    }
   ],
   "source": [
    "# load dataset\n",
    "df_employment = pd.read_csv(employment_path)\n",
    "# drop useless columns\n",
    "df_employment.drop(columns=['STRUCTURE', 'STRUCTURE_ID', 'freq', 'sex', 'unit', 'OBS_FLAG'], inplace=True)\n",
    "df_employment.head()"
   ]
  },
  {
   "cell_type": "code",
   "execution_count": 13,
   "metadata": {},
   "outputs": [],
   "source": [
    "# filter by time\n",
    "df_employment = filter_year(df_employment, year)\n",
    "\n",
    "# filter by max precision (NUTS 2)\n",
    "df_employment = filter_precision(df_employment)"
   ]
  },
  {
   "cell_type": "code",
   "execution_count": 15,
   "metadata": {},
   "outputs": [
    {
     "data": {
      "text/html": [
       "<div>\n",
       "<style scoped>\n",
       "    .dataframe tbody tr th:only-of-type {\n",
       "        vertical-align: middle;\n",
       "    }\n",
       "\n",
       "    .dataframe tbody tr th {\n",
       "        vertical-align: top;\n",
       "    }\n",
       "\n",
       "    .dataframe thead th {\n",
       "        text-align: right;\n",
       "    }\n",
       "</style>\n",
       "<table border=\"1\" class=\"dataframe\">\n",
       "  <thead>\n",
       "    <tr style=\"text-align: right;\">\n",
       "      <th></th>\n",
       "      <th>age</th>\n",
       "      <th>nuts2</th>\n",
       "      <th>employment_rate</th>\n",
       "    </tr>\n",
       "  </thead>\n",
       "  <tbody>\n",
       "    <tr>\n",
       "      <th>5</th>\n",
       "      <td>Y20-64</td>\n",
       "      <td>AT11</td>\n",
       "      <td>76.5</td>\n",
       "    </tr>\n",
       "    <tr>\n",
       "      <th>7</th>\n",
       "      <td>Y20-64</td>\n",
       "      <td>AT12</td>\n",
       "      <td>78.5</td>\n",
       "    </tr>\n",
       "    <tr>\n",
       "      <th>9</th>\n",
       "      <td>Y20-64</td>\n",
       "      <td>AT13</td>\n",
       "      <td>71.2</td>\n",
       "    </tr>\n",
       "    <tr>\n",
       "      <th>13</th>\n",
       "      <td>Y20-64</td>\n",
       "      <td>AT21</td>\n",
       "      <td>75.8</td>\n",
       "    </tr>\n",
       "    <tr>\n",
       "      <th>15</th>\n",
       "      <td>Y20-64</td>\n",
       "      <td>AT22</td>\n",
       "      <td>77.6</td>\n",
       "    </tr>\n",
       "  </tbody>\n",
       "</table>\n",
       "</div>"
      ],
      "text/plain": [
       "       age nuts2  employment_rate\n",
       "5   Y20-64  AT11             76.5\n",
       "7   Y20-64  AT12             78.5\n",
       "9   Y20-64  AT13             71.2\n",
       "13  Y20-64  AT21             75.8\n",
       "15  Y20-64  AT22             77.6"
      ]
     },
     "execution_count": 15,
     "metadata": {},
     "output_type": "execute_result"
    }
   ],
   "source": [
    "# export clean table to csv\n",
    "df_employment.rename(columns={'geo':'nuts2', 'OBS_VALUE':'employment_rate'}, inplace=True)\n",
    "df_employment.to_csv(data_folder+f'employment_rate/employment_rate_nuts2_{year}_clean.csv', index=False)\n",
    "df_employment.head()"
   ]
  }
 ],
 "metadata": {
  "kernelspec": {
   "display_name": "codagon",
   "language": "python",
   "name": "python3"
  },
  "language_info": {
   "codemirror_mode": {
    "name": "ipython",
    "version": 3
   },
   "file_extension": ".py",
   "mimetype": "text/x-python",
   "name": "python",
   "nbconvert_exporter": "python",
   "pygments_lexer": "ipython3",
   "version": "3.10.13"
  }
 },
 "nbformat": 4,
 "nbformat_minor": 2
}
